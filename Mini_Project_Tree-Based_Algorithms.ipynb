{
 "cells": [
  {
   "cell_type": "markdown",
   "metadata": {},
   "source": [
    "# Mini Project: Tree-Based Algorithms"
   ]
  },
  {
   "cell_type": "markdown",
   "metadata": {},
   "source": [
    "## The \"German Credit\" Dataset"
   ]
  },
  {
   "cell_type": "markdown",
   "metadata": {},
   "source": [
    "### Dataset Details"
   ]
  },
  {
   "cell_type": "markdown",
   "metadata": {},
   "source": [
    "This dataset has two classes (these would be considered labels in Machine Learning terms) to describe the worthiness of a personal loan: \"Good\" or \"Bad\". There are predictors related to attributes, such as: checking account status, duration, credit history, purpose of the loan, amount of the loan, savings accounts or bonds, employment duration, installment rate in percentage of disposable income, personal information, other debtors/guarantors, residence duration, property, age, other installment plans, housing, number of existing credits, job information, number of people being liable to provide maintenance for, telephone, and foreign worker status.\n",
    "\n",
    "Many of these predictors are discrete and have been expanded into several 0/1 indicator variables (a.k.a. they have been one-hot-encoded).\n",
    "\n",
    "This dataset has been kindly provided by Professor Dr. Hans Hofmann of the University of Hamburg, and can also be found on the UCI Machine Learning Repository."
   ]
  },
  {
   "cell_type": "markdown",
   "metadata": {},
   "source": [
    "\n",
    "\n",
    "\n"
   ]
  },
  {
   "cell_type": "markdown",
   "metadata": {},
   "source": [
    "## Decision Trees"
   ]
  },
  {
   "cell_type": "markdown",
   "metadata": {},
   "source": [
    " As we have learned in the previous lectures, Decision Trees as a family of algorithms (irrespective to the particular implementation) are powerful algorithms that can produce models with a predictive accuracy higher than that produced by linear models, such as Linear or Logistic Regression. Primarily, this is due to the fact the DT's can model nonlinear relationships, and also have a number of tuning paramters, that allow for the practicioner to achieve the best possible model. An added bonus is the ability to visualize the trained Decision Tree model, which allows for some insight into how the model has produced the predictions that it has. One caveat here, to keep in mind, is that sometimes, due to the size of the dataset (both in the sense of the number of records, as well as the number of features), the visualization might prove to be very large and complex, increasing the difficulty of interpretation."
   ]
  },
  {
   "cell_type": "markdown",
   "metadata": {},
   "source": [
    "To give you a very good example of how Decision Trees can be visualized and interpreted, we would strongly recommend that, before continuing on with solving the problems in this Mini Project, you take the time to read this fanstastic, detailed and informative blog post: http://explained.ai/decision-tree-viz/index.html"
   ]
  },
  {
   "cell_type": "markdown",
   "metadata": {},
   "source": [
    "## Building Your First Decision Tree Model"
   ]
  },
  {
   "cell_type": "markdown",
   "metadata": {},
   "source": [
    "So, now it's time to jump straight into the heart of the matter. Your first task, is to build a Decision Tree model, using the aforementioned \"German Credit\" dataset, which contains 1,000 records, and 62 columns (one of them presents the labels, and the other 61 present the potential features for the model.)"
   ]
  },
  {
   "cell_type": "markdown",
   "metadata": {},
   "source": [
    "For this task, you will be using the scikit-learn library, which comes already pre-installed with the Anaconda Python distribution. In case you're not using that, you can easily install it using pip."
   ]
  },
  {
   "cell_type": "markdown",
   "metadata": {},
   "source": [
    "Before embarking on creating your first model, we would strongly encourage you to read the short tutorial for Decision Trees in scikit-learn (http://scikit-learn.org/stable/modules/tree.html), and then dive a bit deeper into the documentation of the algorithm itself (http://scikit-learn.org/stable/modules/generated/sklearn.tree.DecisionTreeClassifier.html). "
   ]
  },
  {
   "cell_type": "markdown",
   "metadata": {},
   "source": [
    "Also, since you want to be able to present the results of your model, we suggest you take a look at the tutorial for accuracy metrics for classification models (http://scikit-learn.org/stable/modules/model_evaluation.html#classification-report) as well as the more detailed documentation (http://scikit-learn.org/stable/modules/generated/sklearn.metrics.classification_report.html).\n",
    "\n",
    "Finally, an *amazing* resource that explains the various classification model accuracy metrics, as well as the relationships between them, can be found on Wikipedia: https://en.wikipedia.org/wiki/Confusion_matrix"
   ]
  },
  {
   "cell_type": "markdown",
   "metadata": {},
   "source": [
    "(Note: as you've already learned in the Logistic Regression mini project, a standard practice in Machine Learning for achieving the best possible result when training a model is to use hyperparameter tuning, through Grid Search and k-fold Cross Validation. We strongly encourage you to use it here as well, not just because it's standard practice, but also becuase it's not going to be computationally to intensive, due to the size of the dataset that you're working with. Our suggestion here is that you split the data into 70% training, and 30% testing. Then, do the hyperparameter tuning and Cross Validation on the training set, and afterwards to a final test on the testing set.)"
   ]
  },
  {
   "cell_type": "markdown",
   "metadata": {},
   "source": [
    "### Now we pass the torch onto you! You can start building your first Decision Tree model! :)"
   ]
  },
  {
   "cell_type": "code",
   "execution_count": 1,
   "metadata": {},
   "outputs": [
    {
     "name": "stdout",
     "output_type": "stream",
     "text": [
      "Collecting py4j==0.10.7\n",
      "\u001b[?25l  Downloading https://files.pythonhosted.org/packages/e3/53/c737818eb9a7dc32a7cd4f1396e787bd94200c3997c72c1dbe028587bd76/py4j-0.10.7-py2.py3-none-any.whl (197kB)\n",
      "\u001b[K    100% |████████████████████████████████| 204kB 22.0MB/s ta 0:00:01\n",
      "\u001b[?25hInstalling collected packages: py4j\n",
      "Successfully installed py4j-0.10.7\n",
      "\u001b[33mYou are using pip version 10.0.1, however version 19.3.1 is available.\n",
      "You should consider upgrading via the 'pip install --upgrade pip' command.\u001b[0m\n"
     ]
    }
   ],
   "source": [
    "!pip install py4j==0.10.7"
   ]
  },
  {
   "cell_type": "code",
   "execution_count": 2,
   "metadata": {},
   "outputs": [
    {
     "name": "stdout",
     "output_type": "stream",
     "text": [
      "Collecting dtreeviz\n",
      "  Downloading https://files.pythonhosted.org/packages/00/b9/50676d3cdfee12a25c517f8ba761a56044168fb76e7acb7dce453279d444/dtreeviz-0.6.tar.gz\n",
      "Collecting graphviz>=0.9 (from dtreeviz)\n",
      "  Downloading https://files.pythonhosted.org/packages/94/cd/7b37f2b658995033879719e1ea4c9f171bf7a14c16b79220bd19f9eda3fe/graphviz-0.13-py2.py3-none-any.whl\n",
      "Requirement already satisfied: pandas in /usr/local/anaconda/lib/python3.6/site-packages (from dtreeviz) (0.20.3)\n",
      "Requirement already satisfied: numpy in /usr/local/anaconda/lib/python3.6/site-packages (from dtreeviz) (1.13.3)\n",
      "Requirement already satisfied: scikit-learn in /usr/local/anaconda/lib/python3.6/site-packages (from dtreeviz) (0.19.1)\n",
      "Requirement already satisfied: matplotlib in /usr/local/anaconda/lib/python3.6/site-packages (from dtreeviz) (2.2.2)\n",
      "Collecting colour (from dtreeviz)\n",
      "  Downloading https://files.pythonhosted.org/packages/74/46/e81907704ab203206769dee1385dc77e1407576ff8f50a0681d0a6b541be/colour-0.1.5-py2.py3-none-any.whl\n",
      "Requirement already satisfied: python-dateutil>=2 in /usr/local/anaconda/lib/python3.6/site-packages (from pandas->dtreeviz) (2.7.3)\n",
      "Requirement already satisfied: pytz>=2011k in /usr/local/anaconda/lib/python3.6/site-packages (from pandas->dtreeviz) (2018.4)\n",
      "Requirement already satisfied: kiwisolver>=1.0.1 in /usr/local/anaconda/lib/python3.6/site-packages (from matplotlib->dtreeviz) (1.0.1)\n",
      "Requirement already satisfied: cycler>=0.10 in /usr/local/anaconda/lib/python3.6/site-packages (from matplotlib->dtreeviz) (0.10.0)\n",
      "Requirement already satisfied: six>=1.10 in /usr/local/anaconda/lib/python3.6/site-packages (from matplotlib->dtreeviz) (1.11.0)\n",
      "Requirement already satisfied: pyparsing!=2.0.4,!=2.1.2,!=2.1.6,>=2.0.1 in /usr/local/anaconda/lib/python3.6/site-packages (from matplotlib->dtreeviz) (2.2.0)\n",
      "Requirement already satisfied: setuptools in /usr/local/anaconda/lib/python3.6/site-packages (from kiwisolver>=1.0.1->matplotlib->dtreeviz) (39.2.0)\n",
      "Building wheels for collected packages: dtreeviz\n",
      "  Running setup.py bdist_wheel for dtreeviz ... \u001b[?25ldone\n",
      "\u001b[?25h  Stored in directory: /home/ubuntu/.cache/pip/wheels/39/a3/1d/6b650e1dc7dee16d8385e11f4d6fff1d37e12f697d1dee5260\n",
      "Successfully built dtreeviz\n",
      "\u001b[31mmxnet-cu80 1.2.0 has requirement graphviz<0.9.0,>=0.8.1, but you'll have graphviz 0.13 which is incompatible.\u001b[0m\n",
      "Installing collected packages: graphviz, colour, dtreeviz\n",
      "Successfully installed colour-0.1.5 dtreeviz-0.6 graphviz-0.13\n",
      "\u001b[33mYou are using pip version 10.0.1, however version 19.3.1 is available.\n",
      "You should consider upgrading via the 'pip install --upgrade pip' command.\u001b[0m\n"
     ]
    }
   ],
   "source": [
    "!pip install --user dtreeviz"
   ]
  },
  {
   "cell_type": "code",
   "execution_count": 5,
   "metadata": {
    "collapsed": true
   },
   "outputs": [],
   "source": [
    "import sys\n",
    "sys.path.insert(0, \"/home/ubuntu/.local/lib/python3.6/site-packages\")"
   ]
  },
  {
   "cell_type": "code",
   "execution_count": 6,
   "metadata": {
    "collapsed": true
   },
   "outputs": [],
   "source": [
    "from sklearn.datasets import *\n",
    "from sklearn import tree\n",
    "from dtreeviz.trees import *"
   ]
  },
  {
   "cell_type": "code",
   "execution_count": 9,
   "metadata": {},
   "outputs": [
    {
     "name": "stdout",
     "output_type": "stream",
     "text": [
      "Collecting graphviz==0.8.3\n",
      "  Downloading https://files.pythonhosted.org/packages/84/44/21a7fdd50841aaaef224b943f7d10df87e476e181bb926ccf859bcb53d48/graphviz-0.8.3-py2.py3-none-any.whl\n",
      "\u001b[31mdtreeviz 0.6 has requirement graphviz>=0.9, but you'll have graphviz 0.8.3 which is incompatible.\u001b[0m\n",
      "Installing collected packages: graphviz\n",
      "  Found existing installation: graphviz 0.13\n",
      "    Uninstalling graphviz-0.13:\n",
      "      Successfully uninstalled graphviz-0.13\n",
      "Successfully installed graphviz-0.8.3\n",
      "\u001b[33mYou are using pip version 10.0.1, however version 19.3.1 is available.\n",
      "You should consider upgrading via the 'pip install --upgrade pip' command.\u001b[0m\n"
     ]
    }
   ],
   "source": [
    "! pip install --user graphviz==0.8.3"
   ]
  },
  {
   "cell_type": "code",
   "execution_count": 15,
   "metadata": {},
   "outputs": [
    {
     "name": "stdout",
     "output_type": "stream",
     "text": [
      "Collecting graphviz==0.9\n",
      "  Downloading https://files.pythonhosted.org/packages/47/87/313cd4ea4f75472826acb74c57f94fc83e04ba93e4ccf35656f6b7f502e2/graphviz-0.9-py2.py3-none-any.whl\n",
      "\u001b[31mmxnet-cu80 1.2.0 has requirement graphviz<0.9.0,>=0.8.1, but you'll have graphviz 0.9 which is incompatible.\u001b[0m\n",
      "Installing collected packages: graphviz\n",
      "Successfully installed graphviz-0.9\n",
      "\u001b[33mTarget directory /home/ubuntu/.local/lib/python3.6/site-packages/graphviz already exists. Specify --upgrade to force replacement.\u001b[0m\n",
      "\u001b[33mYou are using pip version 10.0.1, however version 19.3.1 is available.\n",
      "You should consider upgrading via the 'pip install --upgrade pip' command.\u001b[0m\n"
     ]
    }
   ],
   "source": [
    "!pip install --target=\"/home/ubuntu/.local/lib/python3.6/site-packages\" graphviz==0.9"
   ]
  },
  {
   "cell_type": "code",
   "execution_count": 16,
   "metadata": {},
   "outputs": [
    {
     "name": "stderr",
     "output_type": "stream",
     "text": [
      "/usr/local/anaconda/lib/python3.6/site-packages/matplotlib/font_manager.py:1328: UserWarning: findfont: Font family ['Arial'] not found. Falling back to DejaVu Sans\n",
      "  (prop.get_family(), self.defaultFamily[fontext]))\n"
     ]
    },
    {
     "ename": "ExecutableNotFound",
     "evalue": "failed to execute ['dot', '-Tsvg', '-o', '/tmp/DTreeViz_47.svg', '/tmp/DTreeViz_47'], make sure the Graphviz executables are on your systems' PATH",
     "output_type": "error",
     "traceback": [
      "\u001b[0;31m---------------------------------------------------------------------------\u001b[0m",
      "\u001b[0;31mFileNotFoundError\u001b[0m                         Traceback (most recent call last)",
      "\u001b[0;32m~/.local/lib/python3.6/site-packages/graphviz/backend.py\u001b[0m in \u001b[0;36mrun\u001b[0;34m(cmd, input, capture_output, check, quiet, **kwargs)\u001b[0m\n\u001b[1;32m    157\u001b[0m             \u001b[0;32mraise\u001b[0m \u001b[0mExecutableNotFound\u001b[0m\u001b[0;34m(\u001b[0m\u001b[0margs\u001b[0m\u001b[0;34m)\u001b[0m\u001b[0;34m\u001b[0m\u001b[0m\n\u001b[0;32m--> 158\u001b[0;31m         \u001b[0;32melse\u001b[0m\u001b[0;34m:\u001b[0m  \u001b[0;31m# pragma: no cover\u001b[0m\u001b[0;34m\u001b[0m\u001b[0m\n\u001b[0m\u001b[1;32m    159\u001b[0m             \u001b[0;32mraise\u001b[0m\u001b[0;34m\u001b[0m\u001b[0m\n",
      "\u001b[0;32m/usr/local/anaconda/lib/python3.6/subprocess.py\u001b[0m in \u001b[0;36m__init__\u001b[0;34m(self, args, bufsize, executable, stdin, stdout, stderr, preexec_fn, close_fds, shell, cwd, env, universal_newlines, startupinfo, creationflags, restore_signals, start_new_session, pass_fds, encoding, errors)\u001b[0m\n\u001b[1;32m    706\u001b[0m                                 \u001b[0merrread\u001b[0m\u001b[0;34m,\u001b[0m \u001b[0merrwrite\u001b[0m\u001b[0;34m,\u001b[0m\u001b[0;34m\u001b[0m\u001b[0m\n\u001b[0;32m--> 707\u001b[0;31m                                 restore_signals, start_new_session)\n\u001b[0m\u001b[1;32m    708\u001b[0m         \u001b[0;32mexcept\u001b[0m\u001b[0;34m:\u001b[0m\u001b[0;34m\u001b[0m\u001b[0m\n",
      "\u001b[0;32m/usr/local/anaconda/lib/python3.6/subprocess.py\u001b[0m in \u001b[0;36m_execute_child\u001b[0;34m(self, args, executable, preexec_fn, close_fds, pass_fds, cwd, env, startupinfo, creationflags, shell, p2cread, p2cwrite, c2pread, c2pwrite, errread, errwrite, restore_signals, start_new_session)\u001b[0m\n\u001b[1;32m   1332\u001b[0m                                 \u001b[0merr_msg\u001b[0m \u001b[0;34m+=\u001b[0m \u001b[0;34m': '\u001b[0m \u001b[0;34m+\u001b[0m \u001b[0mrepr\u001b[0m\u001b[0;34m(\u001b[0m\u001b[0morig_executable\u001b[0m\u001b[0;34m)\u001b[0m\u001b[0;34m\u001b[0m\u001b[0m\n\u001b[0;32m-> 1333\u001b[0;31m                     \u001b[0;32mraise\u001b[0m \u001b[0mchild_exception_type\u001b[0m\u001b[0;34m(\u001b[0m\u001b[0merrno_num\u001b[0m\u001b[0;34m,\u001b[0m \u001b[0merr_msg\u001b[0m\u001b[0;34m)\u001b[0m\u001b[0;34m\u001b[0m\u001b[0m\n\u001b[0m\u001b[1;32m   1334\u001b[0m                 \u001b[0;32mraise\u001b[0m \u001b[0mchild_exception_type\u001b[0m\u001b[0;34m(\u001b[0m\u001b[0merr_msg\u001b[0m\u001b[0;34m)\u001b[0m\u001b[0;34m\u001b[0m\u001b[0m\n",
      "\u001b[0;31mFileNotFoundError\u001b[0m: [Errno 2] No such file or directory: 'dot'",
      "\nDuring handling of the above exception, another exception occurred:\n",
      "\u001b[0;31mExecutableNotFound\u001b[0m                        Traceback (most recent call last)",
      "\u001b[0;32m<ipython-input-16-5e9378cabd89>\u001b[0m in \u001b[0;36m<module>\u001b[0;34m()\u001b[0m\n\u001b[1;32m     10\u001b[0m                feature_names=boston.feature_names)\n\u001b[1;32m     11\u001b[0m \u001b[0;34m\u001b[0m\u001b[0m\n\u001b[0;32m---> 12\u001b[0;31m \u001b[0mviz\u001b[0m\u001b[0;34m.\u001b[0m\u001b[0mview\u001b[0m\u001b[0;34m(\u001b[0m\u001b[0;34m)\u001b[0m\u001b[0;34m\u001b[0m\u001b[0m\n\u001b[0m",
      "\u001b[0;32m~/.local/lib/python3.6/site-packages/dtreeviz/trees.py\u001b[0m in \u001b[0;36mview\u001b[0;34m(self)\u001b[0m\n\u001b[1;32m     36\u001b[0m \u001b[0;34m\u001b[0m\u001b[0m\n\u001b[1;32m     37\u001b[0m     \u001b[0;32mdef\u001b[0m \u001b[0mview\u001b[0m\u001b[0;34m(\u001b[0m\u001b[0mself\u001b[0m\u001b[0;34m)\u001b[0m\u001b[0;34m:\u001b[0m\u001b[0;34m\u001b[0m\u001b[0m\n\u001b[0;32m---> 38\u001b[0;31m         \u001b[0msvgfilename\u001b[0m \u001b[0;34m=\u001b[0m \u001b[0mself\u001b[0m\u001b[0;34m.\u001b[0m\u001b[0msave_svg\u001b[0m\u001b[0;34m(\u001b[0m\u001b[0;34m)\u001b[0m\u001b[0;34m\u001b[0m\u001b[0m\n\u001b[0m\u001b[1;32m     39\u001b[0m         \u001b[0mview\u001b[0m\u001b[0;34m(\u001b[0m\u001b[0msvgfilename\u001b[0m\u001b[0;34m)\u001b[0m\u001b[0;34m\u001b[0m\u001b[0m\n\u001b[1;32m     40\u001b[0m \u001b[0;34m\u001b[0m\u001b[0m\n",
      "\u001b[0;32m~/.local/lib/python3.6/site-packages/dtreeviz/trees.py\u001b[0m in \u001b[0;36msave_svg\u001b[0;34m(self)\u001b[0m\n\u001b[1;32m     43\u001b[0m         \u001b[0mtmp\u001b[0m \u001b[0;34m=\u001b[0m \u001b[0mtempfile\u001b[0m\u001b[0;34m.\u001b[0m\u001b[0mgettempdir\u001b[0m\u001b[0;34m(\u001b[0m\u001b[0;34m)\u001b[0m\u001b[0;34m\u001b[0m\u001b[0m\n\u001b[1;32m     44\u001b[0m         \u001b[0msvgfilename\u001b[0m \u001b[0;34m=\u001b[0m \u001b[0mos\u001b[0m\u001b[0;34m.\u001b[0m\u001b[0mpath\u001b[0m\u001b[0;34m.\u001b[0m\u001b[0mjoin\u001b[0m\u001b[0;34m(\u001b[0m\u001b[0mtmp\u001b[0m\u001b[0;34m,\u001b[0m \u001b[0;34mf\"DTreeViz_{os.getpid()}.svg\"\u001b[0m\u001b[0;34m)\u001b[0m\u001b[0;34m\u001b[0m\u001b[0m\n\u001b[0;32m---> 45\u001b[0;31m         \u001b[0mself\u001b[0m\u001b[0;34m.\u001b[0m\u001b[0msave\u001b[0m\u001b[0;34m(\u001b[0m\u001b[0msvgfilename\u001b[0m\u001b[0;34m)\u001b[0m\u001b[0;34m\u001b[0m\u001b[0m\n\u001b[0m\u001b[1;32m     46\u001b[0m         \u001b[0;32mreturn\u001b[0m \u001b[0msvgfilename\u001b[0m\u001b[0;34m\u001b[0m\u001b[0m\n\u001b[1;32m     47\u001b[0m \u001b[0;34m\u001b[0m\u001b[0m\n",
      "\u001b[0;32m~/.local/lib/python3.6/site-packages/dtreeviz/trees.py\u001b[0m in \u001b[0;36msave\u001b[0;34m(self, filename)\u001b[0m\n\u001b[1;32m     68\u001b[0m         \u001b[0mcmd\u001b[0m \u001b[0;34m=\u001b[0m \u001b[0;34m[\u001b[0m\u001b[0;34m\"dot\"\u001b[0m\u001b[0;34m,\u001b[0m \u001b[0;34mf\"-T{format}\"\u001b[0m\u001b[0;34m,\u001b[0m \u001b[0;34m\"-o\"\u001b[0m\u001b[0;34m,\u001b[0m \u001b[0mfilename\u001b[0m\u001b[0;34m,\u001b[0m \u001b[0mdotfilename\u001b[0m\u001b[0;34m]\u001b[0m\u001b[0;34m\u001b[0m\u001b[0m\n\u001b[1;32m     69\u001b[0m         \u001b[0;31m# print(' '.join(cmd))\u001b[0m\u001b[0;34m\u001b[0m\u001b[0;34m\u001b[0m\u001b[0m\n\u001b[0;32m---> 70\u001b[0;31m         \u001b[0mrun\u001b[0m\u001b[0;34m(\u001b[0m\u001b[0mcmd\u001b[0m\u001b[0;34m,\u001b[0m \u001b[0mcapture_output\u001b[0m\u001b[0;34m=\u001b[0m\u001b[0;32mTrue\u001b[0m\u001b[0;34m,\u001b[0m \u001b[0mcheck\u001b[0m\u001b[0;34m=\u001b[0m\u001b[0;32mTrue\u001b[0m\u001b[0;34m,\u001b[0m \u001b[0mquiet\u001b[0m\u001b[0;34m=\u001b[0m\u001b[0;32mFalse\u001b[0m\u001b[0;34m)\u001b[0m\u001b[0;34m\u001b[0m\u001b[0m\n\u001b[0m\u001b[1;32m     71\u001b[0m \u001b[0;34m\u001b[0m\u001b[0m\n\u001b[1;32m     72\u001b[0m         \u001b[0;32mif\u001b[0m \u001b[0mfilename\u001b[0m\u001b[0;34m.\u001b[0m\u001b[0mendswith\u001b[0m\u001b[0;34m(\u001b[0m\u001b[0;34m\".svg\"\u001b[0m\u001b[0;34m)\u001b[0m\u001b[0;34m:\u001b[0m\u001b[0;34m\u001b[0m\u001b[0m\n",
      "\u001b[0;32m~/.local/lib/python3.6/site-packages/graphviz/backend.py\u001b[0m in \u001b[0;36mrun\u001b[0;34m(cmd, input, capture_output, check, quiet, **kwargs)\u001b[0m\n\u001b[1;32m    159\u001b[0m             \u001b[0;32mraise\u001b[0m\u001b[0;34m\u001b[0m\u001b[0m\n\u001b[1;32m    160\u001b[0m \u001b[0;34m\u001b[0m\u001b[0m\n\u001b[0;32m--> 161\u001b[0;31m     \u001b[0mouts\u001b[0m\u001b[0;34m,\u001b[0m \u001b[0merrs\u001b[0m \u001b[0;34m=\u001b[0m \u001b[0mproc\u001b[0m\u001b[0;34m.\u001b[0m\u001b[0mcommunicate\u001b[0m\u001b[0;34m(\u001b[0m\u001b[0mdata\u001b[0m\u001b[0;34m)\u001b[0m\u001b[0;34m\u001b[0m\u001b[0m\n\u001b[0m\u001b[1;32m    162\u001b[0m     \u001b[0;32mif\u001b[0m \u001b[0mproc\u001b[0m\u001b[0;34m.\u001b[0m\u001b[0mreturncode\u001b[0m\u001b[0;34m:\u001b[0m\u001b[0;34m\u001b[0m\u001b[0m\n\u001b[1;32m    163\u001b[0m         \u001b[0;32mif\u001b[0m \u001b[0;32mnot\u001b[0m \u001b[0mquiet\u001b[0m\u001b[0;34m:\u001b[0m\u001b[0;34m\u001b[0m\u001b[0m\n",
      "\u001b[0;31mExecutableNotFound\u001b[0m: failed to execute ['dot', '-Tsvg', '-o', '/tmp/DTreeViz_47.svg', '/tmp/DTreeViz_47'], make sure the Graphviz executables are on your systems' PATH"
     ]
    }
   ],
   "source": [
    "\n",
    "regr = tree.DecisionTreeRegressor(max_depth=2)\n",
    "boston = load_boston()\n",
    "regr.fit(boston.data, boston.target)\n",
    "\n",
    "viz = dtreeviz(regr,\n",
    "               boston.data,\n",
    "               boston.target,\n",
    "               target_name='price',\n",
    "               feature_names=boston.feature_names)\n",
    "              \n",
    "viz.view() "
   ]
  },
  {
   "cell_type": "code",
   "execution_count": 21,
   "metadata": {},
   "outputs": [
    {
     "name": "stdout",
     "output_type": "stream",
     "text": [
      "Solving environment: done\n",
      "\n",
      "\n",
      "==> WARNING: A newer version of conda exists. <==\n",
      "  current version: 4.5.4\n",
      "  latest version: 4.7.12\n",
      "\n",
      "Please update conda by running\n",
      "\n",
      "    $ conda update -n base conda\n",
      "\n",
      "\n",
      "\n",
      "NotWritableError: The current user does not have write permissions to a required path.\n",
      "  path: /usr/local/anaconda/pkgs/conda-4.5.4-py36_0/info/repodata_record.json\n",
      "  uid: 12574\n",
      "  gid: 12574\n",
      "\n",
      "If you feel that permissions on this path are set incorrectly, you can manually\n",
      "change them by executing\n",
      "\n",
      "  $ sudo chown 12574:12574 /usr/local/anaconda/pkgs/conda-4.5.4-py36_0/info/repodata_record.json\n",
      "\n",
      "In general, it's not advisable to use 'sudo conda'.\n",
      "\n",
      "\n"
     ]
    }
   ],
   "source": [
    "!conda install graphviz"
   ]
  },
  {
   "cell_type": "code",
   "execution_count": null,
   "metadata": {
    "collapsed": true
   },
   "outputs": [],
   "source": []
  },
  {
   "cell_type": "code",
   "execution_count": 21,
   "metadata": {},
   "outputs": [
    {
     "data": {
      "text/plain": [
       "256"
      ]
     },
     "execution_count": 21,
     "metadata": {},
     "output_type": "execute_result"
    }
   ],
   "source": [
    "import os\n",
    "os.system('sudo ls')"
   ]
  },
  {
   "cell_type": "code",
   "execution_count": 19,
   "metadata": {},
   "outputs": [
    {
     "name": "stdout",
     "output_type": "stream",
     "text": [
      "Solving environment: | ^C\n",
      "failed\n",
      "\n",
      "CondaError: KeyboardInterrupt\n",
      "\n"
     ]
    }
   ],
   "source": [
    "!conda update conda\n"
   ]
  },
  {
   "cell_type": "code",
   "execution_count": 15,
   "metadata": {},
   "outputs": [
    {
     "name": "stdout",
     "output_type": "stream",
     "text": [
      "[sudo] password for ubuntu: \n"
     ]
    }
   ],
   "source": [
    "!sudo -i sudo -s."
   ]
  },
  {
   "cell_type": "code",
   "execution_count": null,
   "metadata": {
    "collapsed": true
   },
   "outputs": [],
   "source": [
    "1+1"
   ]
  },
  {
   "cell_type": "code",
   "execution_count": 18,
   "metadata": {},
   "outputs": [
    {
     "name": "stdout",
     "output_type": "stream",
     "text": [
      "[sudo] password for ubuntu: \n"
     ]
    }
   ],
   "source": [
    "!sudo adduser tempuser"
   ]
  },
  {
   "cell_type": "code",
   "execution_count": 2,
   "metadata": {},
   "outputs": [
    {
     "name": "stdout",
     "output_type": "stream",
     "text": [
      "Solving environment: failed\n",
      "\n",
      "PackagesNotFoundError: The following packages are missing from the target environment:\n",
      "  - graphviz\n",
      "\n",
      "\n"
     ]
    }
   ],
   "source": [
    "!conda uninstall graphviz\n"
   ]
  },
  {
   "cell_type": "code",
   "execution_count": 11,
   "metadata": {},
   "outputs": [
    {
     "name": "stdout",
     "output_type": "stream",
     "text": [
      "Collecting py4j==0.10.7\n",
      "\u001b[?25l  Downloading https://files.pythonhosted.org/packages/e3/53/c737818eb9a7dc32a7cd4f1396e787bd94200c3997c72c1dbe028587bd76/py4j-0.10.7-py2.py3-none-any.whl (197kB)\n",
      "\u001b[K    100% |████████████████████████████████| 204kB 24.3MB/s ta 0:00:01\n",
      "\u001b[?25hInstalling collected packages: py4j\n",
      "Successfully installed py4j-0.10.7\n",
      "\u001b[33mYou are using pip version 10.0.1, however version 19.3 is available.\n",
      "You should consider upgrading via the 'pip install --upgrade pip' command.\u001b[0m\n"
     ]
    }
   ],
   "source": [
    "!pip install py4j==0.10.7"
   ]
  },
  {
   "cell_type": "code",
   "execution_count": 13,
   "metadata": {},
   "outputs": [
    {
     "name": "stdout",
     "output_type": "stream",
     "text": [
      "Collecting dtreeviz\n",
      "Requirement already satisfied: numpy in /usr/local/anaconda/lib/python3.6/site-packages (from dtreeviz) (1.13.3)\n",
      "Requirement already satisfied: pandas in /usr/local/anaconda/lib/python3.6/site-packages (from dtreeviz) (0.20.3)\n",
      "Collecting graphviz>=0.9 (from dtreeviz)\n",
      "  Using cached https://files.pythonhosted.org/packages/94/cd/7b37f2b658995033879719e1ea4c9f171bf7a14c16b79220bd19f9eda3fe/graphviz-0.13-py2.py3-none-any.whl\n",
      "Requirement already satisfied: scikit-learn in /usr/local/anaconda/lib/python3.6/site-packages (from dtreeviz) (0.19.1)\n",
      "Requirement already satisfied: matplotlib in /usr/local/anaconda/lib/python3.6/site-packages (from dtreeviz) (2.2.2)\n",
      "Collecting colour (from dtreeviz)\n",
      "  Using cached https://files.pythonhosted.org/packages/74/46/e81907704ab203206769dee1385dc77e1407576ff8f50a0681d0a6b541be/colour-0.1.5-py2.py3-none-any.whl\n",
      "Requirement already satisfied: python-dateutil>=2 in /usr/local/anaconda/lib/python3.6/site-packages (from pandas->dtreeviz) (2.7.3)\n",
      "Requirement already satisfied: pytz>=2011k in /usr/local/anaconda/lib/python3.6/site-packages (from pandas->dtreeviz) (2018.4)\n",
      "Requirement already satisfied: pyparsing!=2.0.4,!=2.1.2,!=2.1.6,>=2.0.1 in /usr/local/anaconda/lib/python3.6/site-packages (from matplotlib->dtreeviz) (2.2.0)\n",
      "Requirement already satisfied: kiwisolver>=1.0.1 in /usr/local/anaconda/lib/python3.6/site-packages (from matplotlib->dtreeviz) (1.0.1)\n",
      "Requirement already satisfied: six>=1.10 in /usr/local/anaconda/lib/python3.6/site-packages (from matplotlib->dtreeviz) (1.11.0)\n",
      "Requirement already satisfied: cycler>=0.10 in /usr/local/anaconda/lib/python3.6/site-packages (from matplotlib->dtreeviz) (0.10.0)\n",
      "Requirement already satisfied: setuptools in /usr/local/anaconda/lib/python3.6/site-packages (from kiwisolver>=1.0.1->matplotlib->dtreeviz) (39.2.0)\n",
      "\u001b[31mmxnet-cu80 1.2.0 has requirement graphviz<0.9.0,>=0.8.1, but you'll have graphviz 0.13 which is incompatible.\u001b[0m\n",
      "Installing collected packages: graphviz, colour, dtreeviz\n",
      "Successfully installed colour-0.1.5 dtreeviz-0.6 graphviz-0.13\n",
      "\u001b[33mYou are using pip version 10.0.1, however version 19.3 is available.\n",
      "You should consider upgrading via the 'pip install --upgrade pip' command.\u001b[0m\n"
     ]
    }
   ],
   "source": [
    "!pip install --user dtreeviz"
   ]
  },
  {
   "cell_type": "code",
   "execution_count": 41,
   "metadata": {
    "collapsed": true
   },
   "outputs": [],
   "source": [
    "import pandas as pd\n",
    "from sklearn.tree import DecisionTreeClassifier\n",
    "from sklearn.metrics import classification_report\n",
    "from sklearn.model_selection import train_test_split\n",
    "from sklearn.model_selection import GridSearchCV"
   ]
  },
  {
   "cell_type": "code",
   "execution_count": 26,
   "metadata": {
    "collapsed": true
   },
   "outputs": [],
   "source": [
    "german_credit = pd.read_csv('./GermanCredit.csv')\n",
    "X = german_credit.drop('Class', axis = 1)\n",
    "y = german_credit.Class"
   ]
  },
  {
   "cell_type": "code",
   "execution_count": 43,
   "metadata": {
    "collapsed": true
   },
   "outputs": [],
   "source": [
    "# Your code here! :)\n",
    "tree_classifier = DecisionTreeClassifier(random_state = 0, class_weight = 'balanced')\n",
    "parameters = {'splitter': ('best','random')}\n",
    "grid = GridSearchCV(tree_classifier, parameters, cv=5)\n",
    "X_train, X_test, y_train, y_test = train_test_split(X, y, test_size = .30, random_state = 0)\n",
    "regr = grid.fit(X_train, y_train)"
   ]
  },
  {
   "cell_type": "code",
   "execution_count": 59,
   "metadata": {
    "collapsed": true
   },
   "outputs": [],
   "source": [
    "from sklearn.datasets import load_boston\n",
    "from sklearn import tree\n",
    "from dtreeviz.trees import dtreeviz"
   ]
  },
  {
   "cell_type": "code",
   "execution_count": null,
   "metadata": {
    "collapsed": true
   },
   "outputs": [],
   "source": [
    "import sys\n",
    "sys.path.insert(0, \"/home/ubuntu/.local/lib/python3.6/site-packages\")"
   ]
  },
  {
   "cell_type": "code",
   "execution_count": 68,
   "metadata": {},
   "outputs": [
    {
     "name": "stdout",
     "output_type": "stream",
     "text": [
      "/mnt/aic-8_2_8_tree-based-algorithms-mini-project\r\n"
     ]
    }
   ],
   "source": [
    "!pwd"
   ]
  },
  {
   "cell_type": "code",
   "execution_count": 64,
   "metadata": {},
   "outputs": [
    {
     "name": "stdout",
     "output_type": "stream",
     "text": [
      "/bin/sh: 1: /usr/bin/ruby: not found\r\n"
     ]
    }
   ],
   "source": [
    "!/usr/bin/ruby -e \"$(curl -fsSL https://raw.githubusercontent.com/Homebrew/install/master/install)\""
   ]
  },
  {
   "cell_type": "code",
   "execution_count": null,
   "metadata": {
    "collapsed": true
   },
   "outputs": [],
   "source": [
    "!sudo chown 12574:12574 /usr/local/anaconda/pkgs/conda-4.5.4-py36_0/info/repodata_record.json;"
   ]
  },
  {
   "cell_type": "code",
   "execution_count": 69,
   "metadata": {
    "scrolled": true
   },
   "outputs": [
    {
     "name": "stderr",
     "output_type": "stream",
     "text": [
      "/usr/local/anaconda/lib/python3.6/site-packages/matplotlib/font_manager.py:1328: UserWarning: findfont: Font family ['Arial'] not found. Falling back to DejaVu Sans\n",
      "  (prop.get_family(), self.defaultFamily[fontext]))\n"
     ]
    },
    {
     "ename": "ExecutableNotFound",
     "evalue": "failed to execute ['dot', '-Tsvg', '-o', '/tmp/DTreeViz_46.svg', '/tmp/DTreeViz_46'], make sure the Graphviz executables are on your systems' PATH",
     "output_type": "error",
     "traceback": [
      "\u001b[0;31m---------------------------------------------------------------------------\u001b[0m",
      "\u001b[0;31mFileNotFoundError\u001b[0m                         Traceback (most recent call last)",
      "\u001b[0;32m~/.local/lib/python3.6/site-packages/graphviz/backend.py\u001b[0m in \u001b[0;36mrun\u001b[0;34m(cmd, input, capture_output, check, quiet, **kwargs)\u001b[0m\n\u001b[1;32m    157\u001b[0m     \u001b[0;32mtry\u001b[0m\u001b[0;34m:\u001b[0m\u001b[0;34m\u001b[0m\u001b[0m\n\u001b[0;32m--> 158\u001b[0;31m         \u001b[0mproc\u001b[0m \u001b[0;34m=\u001b[0m \u001b[0msubprocess\u001b[0m\u001b[0;34m.\u001b[0m\u001b[0mPopen\u001b[0m\u001b[0;34m(\u001b[0m\u001b[0mcmd\u001b[0m\u001b[0;34m,\u001b[0m \u001b[0mstartupinfo\u001b[0m\u001b[0;34m=\u001b[0m\u001b[0mget_startupinfo\u001b[0m\u001b[0;34m(\u001b[0m\u001b[0;34m)\u001b[0m\u001b[0;34m,\u001b[0m \u001b[0;34m**\u001b[0m\u001b[0mkwargs\u001b[0m\u001b[0;34m)\u001b[0m\u001b[0;34m\u001b[0m\u001b[0m\n\u001b[0m\u001b[1;32m    159\u001b[0m     \u001b[0;32mexcept\u001b[0m \u001b[0mOSError\u001b[0m \u001b[0;32mas\u001b[0m \u001b[0me\u001b[0m\u001b[0;34m:\u001b[0m\u001b[0;34m\u001b[0m\u001b[0m\n",
      "\u001b[0;32m/usr/local/anaconda/lib/python3.6/subprocess.py\u001b[0m in \u001b[0;36m__init__\u001b[0;34m(self, args, bufsize, executable, stdin, stdout, stderr, preexec_fn, close_fds, shell, cwd, env, universal_newlines, startupinfo, creationflags, restore_signals, start_new_session, pass_fds, encoding, errors)\u001b[0m\n\u001b[1;32m    706\u001b[0m                                 \u001b[0merrread\u001b[0m\u001b[0;34m,\u001b[0m \u001b[0merrwrite\u001b[0m\u001b[0;34m,\u001b[0m\u001b[0;34m\u001b[0m\u001b[0m\n\u001b[0;32m--> 707\u001b[0;31m                                 restore_signals, start_new_session)\n\u001b[0m\u001b[1;32m    708\u001b[0m         \u001b[0;32mexcept\u001b[0m\u001b[0;34m:\u001b[0m\u001b[0;34m\u001b[0m\u001b[0m\n",
      "\u001b[0;32m/usr/local/anaconda/lib/python3.6/subprocess.py\u001b[0m in \u001b[0;36m_execute_child\u001b[0;34m(self, args, executable, preexec_fn, close_fds, pass_fds, cwd, env, startupinfo, creationflags, shell, p2cread, p2cwrite, c2pread, c2pwrite, errread, errwrite, restore_signals, start_new_session)\u001b[0m\n\u001b[1;32m   1332\u001b[0m                                 \u001b[0merr_msg\u001b[0m \u001b[0;34m+=\u001b[0m \u001b[0;34m': '\u001b[0m \u001b[0;34m+\u001b[0m \u001b[0mrepr\u001b[0m\u001b[0;34m(\u001b[0m\u001b[0morig_executable\u001b[0m\u001b[0;34m)\u001b[0m\u001b[0;34m\u001b[0m\u001b[0m\n\u001b[0;32m-> 1333\u001b[0;31m                     \u001b[0;32mraise\u001b[0m \u001b[0mchild_exception_type\u001b[0m\u001b[0;34m(\u001b[0m\u001b[0merrno_num\u001b[0m\u001b[0;34m,\u001b[0m \u001b[0merr_msg\u001b[0m\u001b[0;34m)\u001b[0m\u001b[0;34m\u001b[0m\u001b[0m\n\u001b[0m\u001b[1;32m   1334\u001b[0m                 \u001b[0;32mraise\u001b[0m \u001b[0mchild_exception_type\u001b[0m\u001b[0;34m(\u001b[0m\u001b[0merr_msg\u001b[0m\u001b[0;34m)\u001b[0m\u001b[0;34m\u001b[0m\u001b[0m\n",
      "\u001b[0;31mFileNotFoundError\u001b[0m: [Errno 2] No such file or directory: 'dot'",
      "\nDuring handling of the above exception, another exception occurred:\n",
      "\u001b[0;31mExecutableNotFound\u001b[0m                        Traceback (most recent call last)",
      "\u001b[0;32m<ipython-input-69-2a27d6c27409>\u001b[0m in \u001b[0;36m<module>\u001b[0;34m()\u001b[0m\n\u001b[1;32m     10\u001b[0m                feature_names=boston.feature_names)\n\u001b[1;32m     11\u001b[0m \u001b[0;34m\u001b[0m\u001b[0m\n\u001b[0;32m---> 12\u001b[0;31m \u001b[0mviz\u001b[0m\u001b[0;34m.\u001b[0m\u001b[0mview\u001b[0m\u001b[0;34m(\u001b[0m\u001b[0;34m)\u001b[0m\u001b[0;34m\u001b[0m\u001b[0m\n\u001b[0m",
      "\u001b[0;32m~/.local/lib/python3.6/site-packages/dtreeviz/trees.py\u001b[0m in \u001b[0;36mview\u001b[0;34m(self)\u001b[0m\n\u001b[1;32m     36\u001b[0m \u001b[0;34m\u001b[0m\u001b[0m\n\u001b[1;32m     37\u001b[0m     \u001b[0;32mdef\u001b[0m \u001b[0mview\u001b[0m\u001b[0;34m(\u001b[0m\u001b[0mself\u001b[0m\u001b[0;34m)\u001b[0m\u001b[0;34m:\u001b[0m\u001b[0;34m\u001b[0m\u001b[0m\n\u001b[0;32m---> 38\u001b[0;31m         \u001b[0msvgfilename\u001b[0m \u001b[0;34m=\u001b[0m \u001b[0mself\u001b[0m\u001b[0;34m.\u001b[0m\u001b[0msave_svg\u001b[0m\u001b[0;34m(\u001b[0m\u001b[0;34m)\u001b[0m\u001b[0;34m\u001b[0m\u001b[0m\n\u001b[0m\u001b[1;32m     39\u001b[0m         \u001b[0mview\u001b[0m\u001b[0;34m(\u001b[0m\u001b[0msvgfilename\u001b[0m\u001b[0;34m)\u001b[0m\u001b[0;34m\u001b[0m\u001b[0m\n\u001b[1;32m     40\u001b[0m \u001b[0;34m\u001b[0m\u001b[0m\n",
      "\u001b[0;32m~/.local/lib/python3.6/site-packages/dtreeviz/trees.py\u001b[0m in \u001b[0;36msave_svg\u001b[0;34m(self)\u001b[0m\n\u001b[1;32m     43\u001b[0m         \u001b[0mtmp\u001b[0m \u001b[0;34m=\u001b[0m \u001b[0mtempfile\u001b[0m\u001b[0;34m.\u001b[0m\u001b[0mgettempdir\u001b[0m\u001b[0;34m(\u001b[0m\u001b[0;34m)\u001b[0m\u001b[0;34m\u001b[0m\u001b[0m\n\u001b[1;32m     44\u001b[0m         \u001b[0msvgfilename\u001b[0m \u001b[0;34m=\u001b[0m \u001b[0mos\u001b[0m\u001b[0;34m.\u001b[0m\u001b[0mpath\u001b[0m\u001b[0;34m.\u001b[0m\u001b[0mjoin\u001b[0m\u001b[0;34m(\u001b[0m\u001b[0mtmp\u001b[0m\u001b[0;34m,\u001b[0m \u001b[0;34mf\"DTreeViz_{os.getpid()}.svg\"\u001b[0m\u001b[0;34m)\u001b[0m\u001b[0;34m\u001b[0m\u001b[0m\n\u001b[0;32m---> 45\u001b[0;31m         \u001b[0mself\u001b[0m\u001b[0;34m.\u001b[0m\u001b[0msave\u001b[0m\u001b[0;34m(\u001b[0m\u001b[0msvgfilename\u001b[0m\u001b[0;34m)\u001b[0m\u001b[0;34m\u001b[0m\u001b[0m\n\u001b[0m\u001b[1;32m     46\u001b[0m         \u001b[0;32mreturn\u001b[0m \u001b[0msvgfilename\u001b[0m\u001b[0;34m\u001b[0m\u001b[0m\n\u001b[1;32m     47\u001b[0m \u001b[0;34m\u001b[0m\u001b[0m\n",
      "\u001b[0;32m~/.local/lib/python3.6/site-packages/dtreeviz/trees.py\u001b[0m in \u001b[0;36msave\u001b[0;34m(self, filename)\u001b[0m\n\u001b[1;32m     68\u001b[0m         \u001b[0mcmd\u001b[0m \u001b[0;34m=\u001b[0m \u001b[0;34m[\u001b[0m\u001b[0;34m\"dot\"\u001b[0m\u001b[0;34m,\u001b[0m \u001b[0;34mf\"-T{format}\"\u001b[0m\u001b[0;34m,\u001b[0m \u001b[0;34m\"-o\"\u001b[0m\u001b[0;34m,\u001b[0m \u001b[0mfilename\u001b[0m\u001b[0;34m,\u001b[0m \u001b[0mdotfilename\u001b[0m\u001b[0;34m]\u001b[0m\u001b[0;34m\u001b[0m\u001b[0m\n\u001b[1;32m     69\u001b[0m         \u001b[0;31m# print(' '.join(cmd))\u001b[0m\u001b[0;34m\u001b[0m\u001b[0;34m\u001b[0m\u001b[0m\n\u001b[0;32m---> 70\u001b[0;31m         \u001b[0mrun\u001b[0m\u001b[0;34m(\u001b[0m\u001b[0mcmd\u001b[0m\u001b[0;34m,\u001b[0m \u001b[0mcapture_output\u001b[0m\u001b[0;34m=\u001b[0m\u001b[0;32mTrue\u001b[0m\u001b[0;34m,\u001b[0m \u001b[0mcheck\u001b[0m\u001b[0;34m=\u001b[0m\u001b[0;32mTrue\u001b[0m\u001b[0;34m,\u001b[0m \u001b[0mquiet\u001b[0m\u001b[0;34m=\u001b[0m\u001b[0;32mFalse\u001b[0m\u001b[0;34m)\u001b[0m\u001b[0;34m\u001b[0m\u001b[0m\n\u001b[0m\u001b[1;32m     71\u001b[0m \u001b[0;34m\u001b[0m\u001b[0m\n\u001b[1;32m     72\u001b[0m         \u001b[0;32mif\u001b[0m \u001b[0mfilename\u001b[0m\u001b[0;34m.\u001b[0m\u001b[0mendswith\u001b[0m\u001b[0;34m(\u001b[0m\u001b[0;34m\".svg\"\u001b[0m\u001b[0;34m)\u001b[0m\u001b[0;34m:\u001b[0m\u001b[0;34m\u001b[0m\u001b[0m\n",
      "\u001b[0;32m~/.local/lib/python3.6/site-packages/graphviz/backend.py\u001b[0m in \u001b[0;36mrun\u001b[0;34m(cmd, input, capture_output, check, quiet, **kwargs)\u001b[0m\n\u001b[1;32m    159\u001b[0m     \u001b[0;32mexcept\u001b[0m \u001b[0mOSError\u001b[0m \u001b[0;32mas\u001b[0m \u001b[0me\u001b[0m\u001b[0;34m:\u001b[0m\u001b[0;34m\u001b[0m\u001b[0m\n\u001b[1;32m    160\u001b[0m         \u001b[0;32mif\u001b[0m \u001b[0me\u001b[0m\u001b[0;34m.\u001b[0m\u001b[0merrno\u001b[0m \u001b[0;34m==\u001b[0m \u001b[0merrno\u001b[0m\u001b[0;34m.\u001b[0m\u001b[0mENOENT\u001b[0m\u001b[0;34m:\u001b[0m\u001b[0;34m\u001b[0m\u001b[0m\n\u001b[0;32m--> 161\u001b[0;31m             \u001b[0;32mraise\u001b[0m \u001b[0mExecutableNotFound\u001b[0m\u001b[0;34m(\u001b[0m\u001b[0mcmd\u001b[0m\u001b[0;34m)\u001b[0m\u001b[0;34m\u001b[0m\u001b[0m\n\u001b[0m\u001b[1;32m    162\u001b[0m         \u001b[0;32melse\u001b[0m\u001b[0;34m:\u001b[0m\u001b[0;34m\u001b[0m\u001b[0m\n\u001b[1;32m    163\u001b[0m             \u001b[0;32mraise\u001b[0m\u001b[0;34m\u001b[0m\u001b[0m\n",
      "\u001b[0;31mExecutableNotFound\u001b[0m: failed to execute ['dot', '-Tsvg', '-o', '/tmp/DTreeViz_46.svg', '/tmp/DTreeViz_46'], make sure the Graphviz executables are on your systems' PATH"
     ]
    }
   ],
   "source": [
    "\n",
    "regr = tree.DecisionTreeRegressor(max_depth=2)\n",
    "boston = load_boston()\n",
    "regr.fit(boston.data, boston.target)\n",
    "\n",
    "viz = dtreeviz(regr,\n",
    "               boston.data,\n",
    "               boston.target,\n",
    "               target_name='price',\n",
    "               feature_names=boston.feature_names)\n",
    "              \n",
    "viz.view()   "
   ]
  },
  {
   "cell_type": "code",
   "execution_count": 60,
   "metadata": {},
   "outputs": [
    {
     "data": {
      "text/plain": [
       "<function dtreeviz.trees.dtreeviz>"
      ]
     },
     "execution_count": 60,
     "metadata": {},
     "output_type": "execute_result"
    }
   ],
   "source": [
    "dtreeviz"
   ]
  },
  {
   "cell_type": "code",
   "execution_count": null,
   "metadata": {
    "collapsed": true
   },
   "outputs": [],
   "source": []
  },
  {
   "cell_type": "code",
   "execution_count": null,
   "metadata": {
    "collapsed": true
   },
   "outputs": [],
   "source": []
  },
  {
   "cell_type": "code",
   "execution_count": null,
   "metadata": {
    "collapsed": true
   },
   "outputs": [],
   "source": []
  },
  {
   "cell_type": "code",
   "execution_count": 35,
   "metadata": {
    "collapsed": true
   },
   "outputs": [],
   "source": [
    "# Your code here! :)\n",
    "tree = DecisionTreeClassifier(random_state = 0, class_weight = 'balanced')\n",
    "parameters = {'splitter': ('best','random')}\n",
    "\n",
    "X_train, X_test, y_train, y_test = train_test_split(X, y, test_size = .30, random_state = 0)\n",
    "regr = tree.fit(X_train, y_train)"
   ]
  },
  {
   "cell_type": "code",
   "execution_count": 34,
   "metadata": {},
   "outputs": [
    {
     "name": "stderr",
     "output_type": "stream",
     "text": [
      "/usr/local/anaconda/lib/python3.6/site-packages/sklearn/utils/deprecation.py:122: FutureWarning: You are accessing a training score ('mean_train_score'), which will not be available by default any more in 0.21. If you need training scores, please set return_train_score=True\n",
      "  warnings.warn(*warn_args, **warn_kwargs)\n",
      "/usr/local/anaconda/lib/python3.6/site-packages/sklearn/utils/deprecation.py:122: FutureWarning: You are accessing a training score ('split0_train_score'), which will not be available by default any more in 0.21. If you need training scores, please set return_train_score=True\n",
      "  warnings.warn(*warn_args, **warn_kwargs)\n",
      "/usr/local/anaconda/lib/python3.6/site-packages/sklearn/utils/deprecation.py:122: FutureWarning: You are accessing a training score ('split1_train_score'), which will not be available by default any more in 0.21. If you need training scores, please set return_train_score=True\n",
      "  warnings.warn(*warn_args, **warn_kwargs)\n",
      "/usr/local/anaconda/lib/python3.6/site-packages/sklearn/utils/deprecation.py:122: FutureWarning: You are accessing a training score ('split2_train_score'), which will not be available by default any more in 0.21. If you need training scores, please set return_train_score=True\n",
      "  warnings.warn(*warn_args, **warn_kwargs)\n",
      "/usr/local/anaconda/lib/python3.6/site-packages/sklearn/utils/deprecation.py:122: FutureWarning: You are accessing a training score ('split3_train_score'), which will not be available by default any more in 0.21. If you need training scores, please set return_train_score=True\n",
      "  warnings.warn(*warn_args, **warn_kwargs)\n",
      "/usr/local/anaconda/lib/python3.6/site-packages/sklearn/utils/deprecation.py:122: FutureWarning: You are accessing a training score ('split4_train_score'), which will not be available by default any more in 0.21. If you need training scores, please set return_train_score=True\n",
      "  warnings.warn(*warn_args, **warn_kwargs)\n",
      "/usr/local/anaconda/lib/python3.6/site-packages/sklearn/utils/deprecation.py:122: FutureWarning: You are accessing a training score ('std_train_score'), which will not be available by default any more in 0.21. If you need training scores, please set return_train_score=True\n",
      "  warnings.warn(*warn_args, **warn_kwargs)\n"
     ]
    },
    {
     "data": {
      "text/plain": [
       "{'mean_fit_time': array([ 0.00565395,  0.00456481]),\n",
       " 'mean_score_time': array([ 0.00063343,  0.00061398]),\n",
       " 'mean_test_score': array([ 0.71      ,  0.67714286]),\n",
       " 'mean_train_score': array([ 1.,  1.]),\n",
       " 'param_splitter': masked_array(data = ['best' 'random'],\n",
       "              mask = [False False],\n",
       "        fill_value = ?),\n",
       " 'params': [{'splitter': 'best'}, {'splitter': 'random'}],\n",
       " 'rank_test_score': array([1, 2], dtype=int32),\n",
       " 'split0_test_score': array([ 0.75177305,  0.63829787]),\n",
       " 'split0_train_score': array([ 1.,  1.]),\n",
       " 'split1_test_score': array([ 0.75      ,  0.71428571]),\n",
       " 'split1_train_score': array([ 1.,  1.]),\n",
       " 'split2_test_score': array([ 0.67142857,  0.7       ]),\n",
       " 'split2_train_score': array([ 1.,  1.]),\n",
       " 'split3_test_score': array([ 0.71428571,  0.61428571]),\n",
       " 'split3_train_score': array([ 1.,  1.]),\n",
       " 'split4_test_score': array([ 0.6618705 ,  0.71942446]),\n",
       " 'split4_train_score': array([ 1.,  1.]),\n",
       " 'std_fit_time': array([  1.77144241e-04,   9.57930604e-05]),\n",
       " 'std_score_time': array([  1.96242679e-05,   7.63892532e-06]),\n",
       " 'std_test_score': array([ 0.03785096,  0.04277321]),\n",
       " 'std_train_score': array([ 0.,  0.])}"
      ]
     },
     "execution_count": 34,
     "metadata": {},
     "output_type": "execute_result"
    }
   ],
   "source": [
    "grid.cv_results_"
   ]
  },
  {
   "cell_type": "code",
   "execution_count": 27,
   "metadata": {},
   "outputs": [
    {
     "data": {
      "text/plain": [
       "DecisionTreeClassifier(class_weight='balanced', criterion='gini',\n",
       "            max_depth=None, max_features=None, max_leaf_nodes=None,\n",
       "            min_impurity_decrease=0.0, min_impurity_split=None,\n",
       "            min_samples_leaf=1, min_samples_split=2,\n",
       "            min_weight_fraction_leaf=0.0, presort=False, random_state=0,\n",
       "            splitter='best')"
      ]
     },
     "execution_count": 27,
     "metadata": {},
     "output_type": "execute_result"
    }
   ],
   "source": [
    "grid.best_estimator_"
   ]
  },
  {
   "cell_type": "markdown",
   "metadata": {},
   "source": [
    "### After you've built the best model you can, now it's time to visualize it!"
   ]
  },
  {
   "cell_type": "markdown",
   "metadata": {},
   "source": [
    "Rememeber that amazing blog post from a few paragraphs ago, that demonstrated how to visualize and interpret the results of your Decision Tree model. We've seen that this can perform very well, but let's see how it does on the \"German Credit\" dataset that we're working on, due to it being a bit larger than the one used by the blog authors."
   ]
  },
  {
   "cell_type": "markdown",
   "metadata": {},
   "source": [
    "First, we're going to need to install their package. If you're using Anaconda, this can be done easily by running:"
   ]
  },
  {
   "cell_type": "code",
   "execution_count": 29,
   "metadata": {},
   "outputs": [
    {
     "name": "stdout",
     "output_type": "stream",
     "text": [
      "Requirement already satisfied: py4j==0.10.7 in /usr/local/anaconda/lib/python3.6/site-packages (0.10.7)\n",
      "\u001b[31mmxnet-cu80 1.2.0 has requirement graphviz<0.9.0,>=0.8.1, but you'll have graphviz 0.13 which is incompatible.\u001b[0m\n",
      "\u001b[33mYou are using pip version 10.0.1, however version 19.3 is available.\n",
      "You should consider upgrading via the 'pip install --upgrade pip' command.\u001b[0m\n"
     ]
    }
   ],
   "source": [
    "! pip install py4j==0.10.7"
   ]
  },
  {
   "cell_type": "code",
   "execution_count": 31,
   "metadata": {},
   "outputs": [
    {
     "name": "stdout",
     "output_type": "stream",
     "text": [
      "Requirement already satisfied: graphviz==0.8.3 in /home/ubuntu/.local/lib/python3.6/site-packages (0.8.3)\n",
      "\u001b[31mdtreeviz 0.6 has requirement graphviz>=0.9, but you'll have graphviz 0.8.3 which is incompatible.\u001b[0m\n",
      "\u001b[33mYou are using pip version 10.0.1, however version 19.3 is available.\n",
      "You should consider upgrading via the 'pip install --upgrade pip' command.\u001b[0m\n"
     ]
    }
   ],
   "source": [
    "! pip install --user graphviz==0.8.3"
   ]
  },
  {
   "cell_type": "code",
   "execution_count": 32,
   "metadata": {},
   "outputs": [
    {
     "name": "stdout",
     "output_type": "stream",
     "text": [
      "Requirement already satisfied: dtreeviz in /home/ubuntu/.local/lib/python3.6/site-packages (0.6)\n",
      "Requirement already satisfied: pandas in /usr/local/anaconda/lib/python3.6/site-packages (from dtreeviz) (0.20.3)\n",
      "Requirement already satisfied: colour in /home/ubuntu/.local/lib/python3.6/site-packages (from dtreeviz) (0.1.5)\n",
      "Requirement already satisfied: matplotlib in /usr/local/anaconda/lib/python3.6/site-packages (from dtreeviz) (2.2.2)\n",
      "Requirement already satisfied: scikit-learn in /usr/local/anaconda/lib/python3.6/site-packages (from dtreeviz) (0.19.1)\n",
      "Requirement already satisfied: numpy in /usr/local/anaconda/lib/python3.6/site-packages (from dtreeviz) (1.13.3)\n",
      "Collecting graphviz>=0.9 (from dtreeviz)\n",
      "  Using cached https://files.pythonhosted.org/packages/94/cd/7b37f2b658995033879719e1ea4c9f171bf7a14c16b79220bd19f9eda3fe/graphviz-0.13-py2.py3-none-any.whl\n",
      "Requirement already satisfied: python-dateutil>=2 in /usr/local/anaconda/lib/python3.6/site-packages (from pandas->dtreeviz) (2.7.3)\n",
      "Requirement already satisfied: pytz>=2011k in /usr/local/anaconda/lib/python3.6/site-packages (from pandas->dtreeviz) (2018.4)\n",
      "Requirement already satisfied: cycler>=0.10 in /usr/local/anaconda/lib/python3.6/site-packages (from matplotlib->dtreeviz) (0.10.0)\n",
      "Requirement already satisfied: kiwisolver>=1.0.1 in /usr/local/anaconda/lib/python3.6/site-packages (from matplotlib->dtreeviz) (1.0.1)\n",
      "Requirement already satisfied: six>=1.10 in /usr/local/anaconda/lib/python3.6/site-packages (from matplotlib->dtreeviz) (1.11.0)\n",
      "Requirement already satisfied: pyparsing!=2.0.4,!=2.1.2,!=2.1.6,>=2.0.1 in /usr/local/anaconda/lib/python3.6/site-packages (from matplotlib->dtreeviz) (2.2.0)\n",
      "Requirement already satisfied: setuptools in /usr/local/anaconda/lib/python3.6/site-packages (from kiwisolver>=1.0.1->matplotlib->dtreeviz) (39.2.0)\n",
      "\u001b[31mmxnet-cu80 1.2.0 has requirement graphviz<0.9.0,>=0.8.1, but you'll have graphviz 0.13 which is incompatible.\u001b[0m\n",
      "Installing collected packages: graphviz\n",
      "  Found existing installation: graphviz 0.8.3\n",
      "    Uninstalling graphviz-0.8.3:\n",
      "      Successfully uninstalled graphviz-0.8.3\n",
      "Successfully installed graphviz-0.13\n",
      "\u001b[33mYou are using pip version 10.0.1, however version 19.3 is available.\n",
      "You should consider upgrading via the 'pip install --upgrade pip' command.\u001b[0m\n"
     ]
    }
   ],
   "source": [
    "! pip3 install --user dtreeviz"
   ]
  },
  {
   "cell_type": "code",
   "execution_count": 61,
   "metadata": {},
   "outputs": [
    {
     "name": "stdout",
     "output_type": "stream",
     "text": [
      "Requirement already up-to-date: dtreeviz in /home/ubuntu/.local/lib/python3.6/site-packages (0.6)\n",
      "Requirement not upgraded as not directly required: scikit-learn in /usr/local/anaconda/lib/python3.6/site-packages (from dtreeviz) (0.19.1)\n",
      "Requirement not upgraded as not directly required: pandas in /usr/local/anaconda/lib/python3.6/site-packages (from dtreeviz) (0.20.3)\n",
      "Requirement not upgraded as not directly required: matplotlib in /usr/local/anaconda/lib/python3.6/site-packages (from dtreeviz) (2.2.2)\n",
      "Requirement not upgraded as not directly required: graphviz>=0.9 in /home/ubuntu/.local/lib/python3.6/site-packages (from dtreeviz) (0.13)\n",
      "Requirement not upgraded as not directly required: numpy in /usr/local/anaconda/lib/python3.6/site-packages (from dtreeviz) (1.13.3)\n",
      "Requirement not upgraded as not directly required: colour in /home/ubuntu/.local/lib/python3.6/site-packages (from dtreeviz) (0.1.5)\n",
      "Requirement not upgraded as not directly required: python-dateutil>=2 in /usr/local/anaconda/lib/python3.6/site-packages (from pandas->dtreeviz) (2.7.3)\n",
      "Requirement not upgraded as not directly required: pytz>=2011k in /usr/local/anaconda/lib/python3.6/site-packages (from pandas->dtreeviz) (2018.4)\n",
      "Requirement not upgraded as not directly required: cycler>=0.10 in /usr/local/anaconda/lib/python3.6/site-packages (from matplotlib->dtreeviz) (0.10.0)\n",
      "Requirement not upgraded as not directly required: six>=1.10 in /usr/local/anaconda/lib/python3.6/site-packages (from matplotlib->dtreeviz) (1.11.0)\n",
      "Requirement not upgraded as not directly required: pyparsing!=2.0.4,!=2.1.2,!=2.1.6,>=2.0.1 in /usr/local/anaconda/lib/python3.6/site-packages (from matplotlib->dtreeviz) (2.2.0)\n",
      "Requirement not upgraded as not directly required: kiwisolver>=1.0.1 in /usr/local/anaconda/lib/python3.6/site-packages (from matplotlib->dtreeviz) (1.0.1)\n",
      "Requirement not upgraded as not directly required: setuptools in /usr/local/anaconda/lib/python3.6/site-packages (from kiwisolver>=1.0.1->matplotlib->dtreeviz) (39.2.0)\n",
      "\u001b[31mmxnet-cu80 1.2.0 has requirement graphviz<0.9.0,>=0.8.1, but you'll have graphviz 0.13 which is incompatible.\u001b[0m\n",
      "\u001b[33mYou are using pip version 10.0.1, however version 19.2.3 is available.\n",
      "You should consider upgrading via the 'pip install --upgrade pip' command.\u001b[0m\n"
     ]
    }
   ],
   "source": [
    "! python3 -m pip install --user --upgrade dtreeviz"
   ]
  },
  {
   "cell_type": "markdown",
   "metadata": {},
   "source": [
    "If for any reason this way of installing doesn't work for you straight out of the box, please refer to the more detailed documentation here: https://github.com/parrt/dtreeviz"
   ]
  },
  {
   "cell_type": "markdown",
   "metadata": {},
   "source": [
    "Now you're ready to visualize your Decision Tree model! Please feel free to use the blog post for guidance and inspiration!"
   ]
  },
  {
   "cell_type": "code",
   "execution_count": 21,
   "metadata": {
    "collapsed": true
   },
   "outputs": [],
   "source": [
    "import sys"
   ]
  },
  {
   "cell_type": "code",
   "execution_count": 33,
   "metadata": {},
   "outputs": [
    {
     "name": "stdout",
     "output_type": "stream",
     "text": [
      "None\n"
     ]
    }
   ],
   "source": [
    "import os\n",
    "print(os.getenv('Path'))"
   ]
  },
  {
   "cell_type": "code",
   "execution_count": 57,
   "metadata": {},
   "outputs": [
    {
     "name": "stdout",
     "output_type": "stream",
     "text": [
      "Package                            Version          \r\n",
      "---------------------------------- -----------------\r\n",
      "absl-py                            0.2.2            \r\n",
      "alabaster                          0.7.10           \r\n",
      "anaconda-client                    1.6.3            \r\n",
      "anaconda-navigator                 1.6.4            \r\n",
      "anaconda-project                   0.6.0            \r\n",
      "appdirs                            1.4.3            \r\n",
      "asn1crypto                         0.22.0           \r\n",
      "astor                              0.6.2            \r\n",
      "astroid                            1.5.3            \r\n",
      "astropy                            2.0.1            \r\n",
      "Babel                              2.5.0            \r\n",
      "backports.shutil-get-terminal-size 1.0.0            \r\n",
      "bcrypt                             3.1.4            \r\n",
      "beautifulsoup4                     4.6.0            \r\n",
      "bitarray                           0.8.1            \r\n",
      "bkcharts                           0.2              \r\n",
      "blaze                              0.10.1           \r\n",
      "bleach                             1.5.0            \r\n",
      "bokeh                              0.12.7           \r\n",
      "boto                               2.48.0           \r\n",
      "boto3                              1.7.26           \r\n",
      "botocore                           1.10.26          \r\n",
      "Bottleneck                         1.2.1            \r\n",
      "brewer2mpl                         1.4.1            \r\n",
      "bson                               0.5.6            \r\n",
      "bz2file                            0.98             \r\n",
      "cairocffi                          0.8.0            \r\n",
      "certifi                            2017.11.5        \r\n",
      "cffi                               1.10.0           \r\n",
      "cftime                             1.0.0            \r\n",
      "chardet                            3.0.4            \r\n",
      "click                              6.7              \r\n",
      "cloudpickle                        0.4.0            \r\n",
      "clyent                             1.2.2            \r\n",
      "colour                             0.1.5            \r\n",
      "conda                              4.5.4            \r\n",
      "configobj                          5.0.6            \r\n",
      "contextlib2                        0.5.5            \r\n",
      "Corpora                            1.0              \r\n",
      "cryptography                       1.8.1            \r\n",
      "cx-Oracle                          6.3.1            \r\n",
      "cycler                             0.10.0           \r\n",
      "cymem                              1.31.2           \r\n",
      "Cython                             0.26             \r\n",
      "cytoolz                            0.8.2            \r\n",
      "daal                               2018.0.0.20170814\r\n",
      "dash                               0.21.1           \r\n",
      "dash-core-components               0.22.1           \r\n",
      "dash-html-components               0.10.1           \r\n",
      "dash-renderer                      0.12.1           \r\n",
      "dash-table-experiments             0.6.0            \r\n",
      "dask                               0.15.2           \r\n",
      "datashape                          0.5.4            \r\n",
      "decorator                          4.1.2            \r\n",
      "dill                               0.2.7.1          \r\n",
      "distributed                        1.18.1           \r\n",
      "docutils                           0.14             \r\n",
      "dtreeviz                           0.6              \r\n",
      "en-core-web-sm                     2.0.0            \r\n",
      "entrypoints                        0.2.3            \r\n",
      "enum34                             1.1.6            \r\n",
      "et-xmlfile                         1.0.1            \r\n",
      "fastcache                          1.0.2            \r\n",
      "Flask                              0.12             \r\n",
      "Flask-Compress                     1.4.0            \r\n",
      "Flask-Cors                         3.0.3            \r\n",
      "future                             0.16.0           \r\n",
      "gast                               0.2.0            \r\n",
      "gensim                             3.4.0            \r\n",
      "gevent                             1.2.2            \r\n",
      "ggplot                             0.11.5           \r\n",
      "graphviz                           0.13             \r\n",
      "greenlet                           0.4.12           \r\n",
      "grpcio                             1.12.0           \r\n",
      "gunicorn                           19.8.1           \r\n",
      "h5py                               2.7.0            \r\n",
      "HeapDict                           1.0.0            \r\n",
      "html5lib                           0.9999999        \r\n",
      "icc-rt                             16.0.3           \r\n",
      "idna                               2.6              \r\n",
      "imagesize                          0.7.1            \r\n",
      "impi                               2018.0.0         \r\n",
      "intel-numpy                        1.13.3.10        \r\n",
      "intel-openmp                       2018.0.0         \r\n",
      "intel-scipy                        1.0.0.0          \r\n",
      "ipp                                2018.0.0         \r\n",
      "ipykernel                          4.6.1            \r\n",
      "ipython                            6.1.0            \r\n",
      "ipython-genutils                   0.2.0            \r\n",
      "ipywidgets                         6.0.0            \r\n",
      "isort                              4.2.15           \r\n",
      "itsdangerous                       0.24             \r\n",
      "jdcal                              1.3              \r\n",
      "jedi                               0.10.2           \r\n",
      "Jinja2                             2.10             \r\n",
      "jmespath                           0.9.3            \r\n",
      "joblib                             0.11             \r\n",
      "jsonify                            0.5              \r\n",
      "jsonschema                         2.6.0            \r\n",
      "jupyter                            1.0.0            \r\n",
      "jupyter-client                     5.1.0            \r\n",
      "jupyter-console                    5.2.0            \r\n",
      "jupyter-core                       4.3.0            \r\n",
      "jupyter-tensorboard                0.1.6            \r\n",
      "jupyterlab                         0.31.12          \r\n",
      "jupyterlab-launcher                0.10.5           \r\n",
      "Keras                              2.1.6            \r\n",
      "kiwisolver                         1.0.1            \r\n",
      "lazy-object-proxy                  1.3.1            \r\n",
      "llvmlite                           0.20.0           \r\n",
      "locket                             0.2.0            \r\n",
      "lxml                               3.8.0            \r\n",
      "Markdown                           2.6.11           \r\n",
      "MarkupSafe                         1.0              \r\n",
      "matplotlib                         2.2.2            \r\n",
      "memory-profiler                    0.52.0           \r\n",
      "mistune                            0.7.4            \r\n",
      "mkl                                2018.0.0         \r\n",
      "mkl-fft                            1.0.0.17         \r\n",
      "mkl-random                         1.0.1            \r\n",
      "mpltools                           0.2.0            \r\n",
      "mpmath                             0.19             \r\n",
      "msgpack-numpy                      0.4.1            \r\n",
      "msgpack-python                     0.4.8            \r\n",
      "multipledispatch                   0.4.9            \r\n",
      "murmurhash                         0.28.0           \r\n",
      "mxnet-cu80                         1.2.0            \r\n",
      "navigator-updater                  0.1.0            \r\n",
      "nbconvert                          5.2.1            \r\n",
      "nbformat                           4.4.0            \r\n",
      "netCDF4                            1.4.0            \r\n",
      "networkx                           1.11             \r\n",
      "nltk                               3.3              \r\n",
      "nose                               1.3.7            \r\n",
      "notebook                           5.0.0            \r\n",
      "numba                              0.35.0           \r\n",
      "numexpr                            2.6.5            \r\n",
      "numpy                              1.13.3           \r\n",
      "numpydoc                           0.7.0            \r\n",
      "odo                                0.5.1            \r\n",
      "olefile                            0.44             \r\n",
      "openpyxl                           2.4.8            \r\n",
      "packaging                          16.8             \r\n",
      "pandas                             0.20.3           \r\n",
      "pandas-datareader                  0.6.0            \r\n",
      "pandas-profiling                   1.4.1            \r\n",
      "pandoc                             1.0.2            \r\n",
      "pandocfilters                      1.4.2            \r\n",
      "paramiko                           2.4.1            \r\n",
      "partd                              0.3.8            \r\n",
      "pathlib                            1.0.1            \r\n",
      "pathlib2                           2.3.0            \r\n",
      "patsy                              0.4.1            \r\n",
      "pep8                               1.7.0            \r\n",
      "pexpect                            4.2.1            \r\n",
      "pickleshare                        0.7.4            \r\n",
      "Pillow                             4.2.1            \r\n",
      "pip                                10.0.1           \r\n",
      "plac                               0.9.6            \r\n",
      "plotly                             2.6.0            \r\n",
      "ply                                3.10             \r\n",
      "preshed                            1.0.0            \r\n",
      "prompt-toolkit                     1.0.15           \r\n",
      "protobuf                           3.5.2.post1      \r\n",
      "psutil                             5.2.2            \r\n",
      "ptyprocess                         0.5.2            \r\n",
      "py                                 1.4.34           \r\n",
      "py4j                               0.10.7           \r\n",
      "pyarrow                            0.7.1            \r\n",
      "pyasn1                             0.4.2            \r\n",
      "pycodestyle                        2.3.1            \r\n",
      "pycosat                            0.6.3            \r\n",
      "pycparser                          2.18             \r\n",
      "pycrypto                           2.6.1            \r\n",
      "pycurl                             7.43.0           \r\n",
      "pyflakes                           1.6.0            \r\n",
      "Pygments                           2.2.0            \r\n",
      "pylint                             1.7.2            \r\n",
      "pymongo                            3.6.1            \r\n",
      "PyNaCl                             1.2.1            \r\n",
      "pyodbc                             4.0.17           \r\n",
      "pyOpenSSL                          17.0.0           \r\n",
      "pypandoc                           1.4              \r\n",
      "pyparsing                          2.2.0            \r\n",
      "pyspark                            2.4.0            \r\n",
      "pytest                             3.2.1            \r\n",
      "python-dateutil                    2.7.3            \r\n",
      "python-domino                      0.3.3            \r\n",
      "pytz                               2018.4           \r\n",
      "PyWavelets                         0.5.2            \r\n",
      "PyYAML                             3.12             \r\n",
      "pyzmq                              16.0.2           \r\n",
      "QtAwesome                          0.4.4            \r\n",
      "qtconsole                          4.3.1            \r\n",
      "QtPy                               1.3.1            \r\n",
      "quilt                              2.9.4            \r\n",
      "regex                              2017.4.5         \r\n",
      "requests                           2.18.4           \r\n",
      "requests-file                      1.4.3            \r\n",
      "requests-ftp                       0.3.1            \r\n",
      "rope-py3k                          0.9.4.post1      \r\n",
      "s3transfer                         0.1.13           \r\n",
      "scikit-image                       0.13.0           \r\n",
      "scikit-learn                       0.19.1           \r\n",
      "scipy                              1.1.0            \r\n",
      "seaborn                            0.8              \r\n",
      "setuptools                         39.2.0           \r\n",
      "simplegeneric                      0.8.1            \r\n",
      "simplejson                         3.15.0           \r\n",
      "singledispatch                     3.4.0.3          \r\n",
      "six                                1.11.0           \r\n",
      "smart-open                         1.5.7            \r\n",
      "snowballstemmer                    1.2.1            \r\n",
      "sortedcollections                  0.5.3            \r\n",
      "sortedcontainers                   1.5.7            \r\n",
      "spacy                              2.0.11           \r\n",
      "Sphinx                             1.6.3            \r\n",
      "sphinxcontrib-websupport           1.0.1            \r\n",
      "spyder                             3.2.3            \r\n",
      "SQLAlchemy                         1.1.13           \r\n",
      "statsmodels                        0.8.0            \r\n",
      "sympy                              1.1.1            \r\n",
      "tables                             3.4.2            \r\n",
      "tblib                              1.3.2            \r\n",
      "tensorboard                        1.8.0            \r\n",
      "tensorflow                         1.8.0            \r\n",
      "tensorflow-gpu                     1.4.0rc1         \r\n",
      "tensorflow-tensorboard             0.4.0            \r\n",
      "termcolor                          1.1.0            \r\n",
      "terminado                          0.6              \r\n",
      "testpath                           0.3              \r\n",
      "thinc                              6.10.2           \r\n",
      "toolz                              0.8.2            \r\n",
      "torch                              0.4.0            \r\n",
      "torchvision                        0.2.1            \r\n",
      "tornado                            4.5.2            \r\n",
      "tqdm                               4.23.4           \r\n",
      "traitlets                          4.3.2            \r\n",
      "ujson                              1.35             \r\n",
      "unicodecsv                         0.14.1           \r\n",
      "Unidecode                          1.0.22           \r\n",
      "urllib3                            1.22             \r\n",
      "uWSGI                              2.0.14           \r\n",
      "wcwidth                            0.1.7            \r\n",
      "websocket                          0.2.1            \r\n",
      "Werkzeug                           0.14.1           \r\n",
      "wheel                              0.29.0           \r\n",
      "widgetsnbextension                 3.0.2            \r\n",
      "wrapt                              1.10.11          \r\n",
      "xarray                             0.10.4           \r\n",
      "xgboost                            0.71             \r\n",
      "xlrd                               1.1.0            \r\n",
      "XlsxWriter                         0.9.8            \r\n",
      "xlwt                               1.3.0            \r\n",
      "zict                               0.1.2            \r\n"
     ]
    },
    {
     "name": "stdout",
     "output_type": "stream",
     "text": [
      "\u001b[33mYou are using pip version 10.0.1, however version 19.2.3 is available.\r\n",
      "You should consider upgrading via the 'pip install --upgrade pip' command.\u001b[0m\r\n"
     ]
    }
   ],
   "source": [
    "! pip list"
   ]
  },
  {
   "cell_type": "code",
   "execution_count": null,
   "metadata": {
    "collapsed": true
   },
   "outputs": [],
   "source": [
    "from sklearn.datasets import *\n",
    "boston = load_boston()\n"
   ]
  },
  {
   "cell_type": "code",
   "execution_count": null,
   "metadata": {
    "collapsed": true
   },
   "outputs": [],
   "source": [
    "\n",
    "tree = DecisionTreeClassifier(random_state = 0, class_weight = 'balanced')\n",
    "parameters = {'splitter': ('best','random')}\n",
    "grid = GridSearchCV(tree, parameters, cv=5, class_weight = 'balanced')\n",
    "X_train, X_test, y_train, y_test = train_test_split(X, y, test_size = .30, random_state = 0)\n",
    "regr = grid.fit(X_train, y_train)"
   ]
  },
  {
   "cell_type": "code",
   "execution_count": null,
   "metadata": {
    "collapsed": true
   },
   "outputs": [],
   "source": [
    "viz = dtreeviz()"
   ]
  },
  {
   "cell_type": "code",
   "execution_count": 103,
   "metadata": {},
   "outputs": [
    {
     "ename": "SyntaxError",
     "evalue": "invalid syntax (<ipython-input-103-845727bf8111>, line 4)",
     "output_type": "error",
     "traceback": [
      "\u001b[0;36m  File \u001b[0;32m\"<ipython-input-103-845727bf8111>\"\u001b[0;36m, line \u001b[0;32m4\u001b[0m\n\u001b[0;31m    viz = dtreeviz(regr, X_train, y_train, target_name='Class',feature_names = np.array(german_credit.drop('Class', axis = 1)),class_names = dict{'Good', 'Bad'})\u001b[0m\n\u001b[0m                                                                                                                                                 ^\u001b[0m\n\u001b[0;31mSyntaxError\u001b[0m\u001b[0;31m:\u001b[0m invalid syntax\n"
     ]
    }
   ],
   "source": [
    "# Your code here! :)\n",
    "#  from dtreeviz.trees import *\n",
    "\n",
    "viz = dtreeviz(regr, X_train, y_train, target_name='Class',\\\n",
    "feature_names = np.array(german_credit.drop('Class', axis = 1)),\\\n",
    "class_names = dict{'Good', 'Bad'})"
   ]
  },
  {
   "cell_type": "code",
   "execution_count": 129,
   "metadata": {},
   "outputs": [
    {
     "data": {
      "text/plain": [
       "{0: 'Good', 1: 'Bad'}"
      ]
     },
     "execution_count": 129,
     "metadata": {},
     "output_type": "execute_result"
    }
   ],
   "source": [
    "from sklearn.datasets import *\n",
    "from sklearn import tree\n",
    "from dtreeviz.trees import *dict({0:'Good',1:'Bad'})"
   ]
  },
  {
   "cell_type": "code",
   "execution_count": 133,
   "metadata": {},
   "outputs": [
    {
     "ename": "AttributeError",
     "evalue": "'DecisionTreeClassifier' object has no attribute 'DecisionTreeRegressor'",
     "output_type": "error",
     "traceback": [
      "\u001b[0;31m---------------------------------------------------------------------------\u001b[0m",
      "\u001b[0;31mAttributeError\u001b[0m                            Traceback (most recent call last)",
      "\u001b[0;32m<ipython-input-133-4a33fc55a101>\u001b[0m in \u001b[0;36m<module>\u001b[0;34m()\u001b[0m\n\u001b[0;32m----> 1\u001b[0;31m \u001b[0mregr\u001b[0m \u001b[0;34m=\u001b[0m \u001b[0mtree\u001b[0m\u001b[0;34m.\u001b[0m\u001b[0mDecisionTreeRegressor\u001b[0m\u001b[0;34m(\u001b[0m\u001b[0mmax_depth\u001b[0m\u001b[0;34m=\u001b[0m\u001b[0;36m2\u001b[0m\u001b[0;34m)\u001b[0m\u001b[0;34m\u001b[0m\u001b[0m\n\u001b[0m\u001b[1;32m      2\u001b[0m \u001b[0mboston\u001b[0m \u001b[0;34m=\u001b[0m \u001b[0mload_boston\u001b[0m\u001b[0;34m(\u001b[0m\u001b[0;34m)\u001b[0m\u001b[0;34m\u001b[0m\u001b[0m\n\u001b[1;32m      3\u001b[0m \u001b[0mregr\u001b[0m\u001b[0;34m.\u001b[0m\u001b[0mfit\u001b[0m\u001b[0;34m(\u001b[0m\u001b[0mboston\u001b[0m\u001b[0;34m.\u001b[0m\u001b[0mdata\u001b[0m\u001b[0;34m,\u001b[0m \u001b[0mboston\u001b[0m\u001b[0;34m.\u001b[0m\u001b[0mtarget\u001b[0m\u001b[0;34m)\u001b[0m\u001b[0;34m\u001b[0m\u001b[0m\n\u001b[1;32m      4\u001b[0m \u001b[0;34m\u001b[0m\u001b[0m\n\u001b[1;32m      5\u001b[0m viz = dtreeviz(regr,\n",
      "\u001b[0;31mAttributeError\u001b[0m: 'DecisionTreeClassifier' object has no attribute 'DecisionTreeRegressor'"
     ]
    }
   ],
   "source": [
    "\n",
    "\n",
    "regr = tree.DecisionTreeRegressor(max_depth=2)\n",
    "boston = load_boston()\n",
    "regr.fit(boston.data, boston.target)\n",
    "\n",
    "viz = dtreeviz(regr,\n",
    "               boston.data,\n",
    "               boston.target,\n",
    "               target_name='price',\n",
    "               feature_names=boston.feature_names)\n",
    "              \n",
    "viz.view()       "
   ]
  },
  {
   "cell_type": "code",
   "execution_count": 130,
   "metadata": {},
   "outputs": [
    {
     "ename": "KeyError",
     "evalue": "'Bad'",
     "output_type": "error",
     "traceback": [
      "\u001b[0;31m---------------------------------------------------------------------------\u001b[0m",
      "\u001b[0;31mKeyError\u001b[0m                                  Traceback (most recent call last)",
      "\u001b[0;32m<ipython-input-130-6f92c6e96c99>\u001b[0m in \u001b[0;36m<module>\u001b[0;34m()\u001b[0m\n\u001b[0;32m----> 1\u001b[0;31m \u001b[0mviz\u001b[0m \u001b[0;34m=\u001b[0m \u001b[0mdtreeviz\u001b[0m\u001b[0;34m(\u001b[0m\u001b[0mregr\u001b[0m\u001b[0;34m,\u001b[0m \u001b[0mX_train\u001b[0m\u001b[0;34m,\u001b[0m \u001b[0my_train\u001b[0m\u001b[0;34m,\u001b[0m \u001b[0mtarget_name\u001b[0m \u001b[0;34m=\u001b[0m \u001b[0;34m'Class'\u001b[0m\u001b[0;34m,\u001b[0m \u001b[0mfeature_names\u001b[0m \u001b[0;34m=\u001b[0m \u001b[0mnp\u001b[0m\u001b[0;34m.\u001b[0m\u001b[0marray\u001b[0m\u001b[0;34m(\u001b[0m\u001b[0mX\u001b[0m\u001b[0;34m.\u001b[0m\u001b[0mcolumns\u001b[0m\u001b[0;34m)\u001b[0m\u001b[0;34m,\u001b[0m \u001b[0mclass_names\u001b[0m \u001b[0;34m=\u001b[0m \u001b[0mdict\u001b[0m\u001b[0;34m(\u001b[0m\u001b[0;34m{\u001b[0m\u001b[0;36m0\u001b[0m\u001b[0;34m:\u001b[0m\u001b[0;34m'Good'\u001b[0m\u001b[0;34m,\u001b[0m\u001b[0;36m1\u001b[0m\u001b[0;34m:\u001b[0m\u001b[0;34m'Bad'\u001b[0m\u001b[0;34m}\u001b[0m\u001b[0;34m)\u001b[0m\u001b[0;34m)\u001b[0m\u001b[0;34m\u001b[0m\u001b[0m\n\u001b[0m\u001b[1;32m      2\u001b[0m \u001b[0;34m\u001b[0m\u001b[0m\n",
      "\u001b[0;32m~/.local/lib/python3.6/site-packages/dtreeviz/trees.py\u001b[0m in \u001b[0;36mdtreeviz\u001b[0;34m(tree_model, X_train, y_train, feature_names, target_name, class_names, precision, orientation, show_root_edge_labels, show_node_labels, fancy, histtype, highlight_path, X, max_X_features_LR, max_X_features_TD, label_fontsize, ticks_fontsize, fontname, colors)\u001b[0m\n\u001b[1;32m    703\u001b[0m         \u001b[0mclass_values\u001b[0m \u001b[0;34m=\u001b[0m \u001b[0mshadow_tree\u001b[0m\u001b[0;34m.\u001b[0m\u001b[0munique_target_values\u001b[0m\u001b[0;34m\u001b[0m\u001b[0m\n\u001b[1;32m    704\u001b[0m         \u001b[0mcolor_map\u001b[0m \u001b[0;34m=\u001b[0m \u001b[0;34m{\u001b[0m\u001b[0mv\u001b[0m\u001b[0;34m:\u001b[0m \u001b[0mcolor_values\u001b[0m\u001b[0;34m[\u001b[0m\u001b[0mi\u001b[0m\u001b[0;34m]\u001b[0m \u001b[0;32mfor\u001b[0m \u001b[0mi\u001b[0m\u001b[0;34m,\u001b[0m \u001b[0mv\u001b[0m \u001b[0;32min\u001b[0m \u001b[0menumerate\u001b[0m\u001b[0;34m(\u001b[0m\u001b[0mclass_values\u001b[0m\u001b[0;34m)\u001b[0m\u001b[0;34m}\u001b[0m\u001b[0;34m\u001b[0m\u001b[0m\n\u001b[0;32m--> 705\u001b[0;31m         \u001b[0mdraw_legend\u001b[0m\u001b[0;34m(\u001b[0m\u001b[0mshadow_tree\u001b[0m\u001b[0;34m,\u001b[0m \u001b[0mtarget_name\u001b[0m\u001b[0;34m,\u001b[0m \u001b[0;34mf\"{tmp}/legend_{os.getpid()}.svg\"\u001b[0m\u001b[0;34m,\u001b[0m \u001b[0mcolors\u001b[0m\u001b[0;34m=\u001b[0m\u001b[0mcolors\u001b[0m\u001b[0;34m)\u001b[0m\u001b[0;34m\u001b[0m\u001b[0m\n\u001b[0m\u001b[1;32m    706\u001b[0m \u001b[0;34m\u001b[0m\u001b[0m\n\u001b[1;32m    707\u001b[0m     \u001b[0my_range\u001b[0m \u001b[0;34m=\u001b[0m \u001b[0;34m(\u001b[0m\u001b[0mmin\u001b[0m\u001b[0;34m(\u001b[0m\u001b[0my_train\u001b[0m\u001b[0;34m)\u001b[0m\u001b[0;34m*\u001b[0m\u001b[0;36m1.03\u001b[0m\u001b[0;34m,\u001b[0m \u001b[0mmax\u001b[0m\u001b[0;34m(\u001b[0m\u001b[0my_train\u001b[0m\u001b[0;34m)\u001b[0m\u001b[0;34m*\u001b[0m\u001b[0;36m1.03\u001b[0m\u001b[0;34m)\u001b[0m \u001b[0;31m# same y axis for all\u001b[0m\u001b[0;34m\u001b[0m\u001b[0m\n",
      "\u001b[0;32m~/.local/lib/python3.6/site-packages/dtreeviz/trees.py\u001b[0m in \u001b[0;36mdraw_legend\u001b[0;34m(shadow_tree, target_name, filename, colors)\u001b[0m\n\u001b[1;32m   1115\u001b[0m     \u001b[0;32mfor\u001b[0m \u001b[0mi\u001b[0m\u001b[0;34m,\u001b[0m \u001b[0mc\u001b[0m \u001b[0;32min\u001b[0m \u001b[0menumerate\u001b[0m\u001b[0;34m(\u001b[0m\u001b[0mclass_values\u001b[0m\u001b[0;34m)\u001b[0m\u001b[0;34m:\u001b[0m\u001b[0;34m\u001b[0m\u001b[0m\n\u001b[1;32m   1116\u001b[0m         box = patches.Rectangle((0, 0), 20, 10, linewidth=.4, edgecolor=colors['rect_edge'],\n\u001b[0;32m-> 1117\u001b[0;31m                                 facecolor=color_map[c], label=class_names[c])\n\u001b[0m\u001b[1;32m   1118\u001b[0m         \u001b[0mboxes\u001b[0m\u001b[0;34m.\u001b[0m\u001b[0mappend\u001b[0m\u001b[0;34m(\u001b[0m\u001b[0mbox\u001b[0m\u001b[0;34m)\u001b[0m\u001b[0;34m\u001b[0m\u001b[0m\n\u001b[1;32m   1119\u001b[0m \u001b[0;34m\u001b[0m\u001b[0m\n",
      "\u001b[0;31mKeyError\u001b[0m: 'Bad'"
     ]
    }
   ],
   "source": [
    "viz = dtreeviz(regr, X_train, y_train, target_name = 'Class', feature_names = np.array(X.columns), class_names = dict({0:'Good',1:'Bad'}))\n",
    "              "
   ]
  },
  {
   "cell_type": "code",
   "execution_count": 3,
   "metadata": {},
   "outputs": [
    {
     "name": "stdout",
     "output_type": "stream",
     "text": [
      "/home/ubuntu\n"
     ]
    }
   ],
   "source": [
    "import os\n",
    "print(os.environ['HOME'])"
   ]
  },
  {
   "cell_type": "code",
   "execution_count": 77,
   "metadata": {},
   "outputs": [
    {
     "name": "stdout",
     "output_type": "stream",
     "text": [
      "/usr/local/anaconda/bin/python3: No module named dtreeviz.__main__; 'dtreeviz' is a package and cannot be directly executed\r\n"
     ]
    }
   ],
   "source": [
    "! python3 -m dtreeviz"
   ]
  },
  {
   "cell_type": "code",
   "execution_count": 78,
   "metadata": {},
   "outputs": [
    {
     "ename": "ModuleNotFoundError",
     "evalue": "No module named 'dtreeviz'",
     "output_type": "error",
     "traceback": [
      "\u001b[0;31m---------------------------------------------------------------------------\u001b[0m",
      "\u001b[0;31mModuleNotFoundError\u001b[0m                       Traceback (most recent call last)",
      "\u001b[0;32m<ipython-input-78-d40af89adad4>\u001b[0m in \u001b[0;36m<module>\u001b[0;34m()\u001b[0m\n\u001b[1;32m      1\u001b[0m \u001b[0;32mfrom\u001b[0m \u001b[0msklearn\u001b[0m\u001b[0;34m.\u001b[0m\u001b[0mdatasets\u001b[0m \u001b[0;32mimport\u001b[0m \u001b[0;34m*\u001b[0m\u001b[0;34m\u001b[0m\u001b[0m\n\u001b[1;32m      2\u001b[0m \u001b[0;32mfrom\u001b[0m \u001b[0msklearn\u001b[0m \u001b[0;32mimport\u001b[0m \u001b[0mtree\u001b[0m\u001b[0;34m\u001b[0m\u001b[0m\n\u001b[0;32m----> 3\u001b[0;31m \u001b[0;32mfrom\u001b[0m \u001b[0mdtreeviz\u001b[0m\u001b[0;34m.\u001b[0m\u001b[0mtrees\u001b[0m \u001b[0;32mimport\u001b[0m \u001b[0;34m*\u001b[0m\u001b[0;34m\u001b[0m\u001b[0m\n\u001b[0m",
      "\u001b[0;31mModuleNotFoundError\u001b[0m: No module named 'dtreeviz'"
     ]
    }
   ],
   "source": [
    "from sklearn.datasets import *\n",
    "from sklearn import tree\n",
    "from dtreeviz.trees import *"
   ]
  },
  {
   "cell_type": "code",
   "execution_count": 89,
   "metadata": {},
   "outputs": [
    {
     "name": "stdout",
     "output_type": "stream",
     "text": [
      "Solving environment: failed\n",
      "\n",
      "PackagesNotFoundError: The following packages are missing from the target environment:\n",
      "  - graphviz\n",
      "\n",
      "\n"
     ]
    }
   ],
   "source": [
    "! conda uninstall graphviz\n"
   ]
  },
  {
   "cell_type": "code",
   "execution_count": 105,
   "metadata": {},
   "outputs": [
    {
     "ename": "ModuleNotFoundError",
     "evalue": "No module named 'dtreeviz'",
     "output_type": "error",
     "traceback": [
      "\u001b[0;31m---------------------------------------------------------------------------\u001b[0m",
      "\u001b[0;31mModuleNotFoundError\u001b[0m                       Traceback (most recent call last)",
      "\u001b[0;32m<ipython-input-105-9d7b3e2af692>\u001b[0m in \u001b[0;36m<module>\u001b[0;34m()\u001b[0m\n\u001b[0;32m----> 1\u001b[0;31m \u001b[0;32mfrom\u001b[0m \u001b[0mdtreeviz\u001b[0m\u001b[0;34m.\u001b[0m\u001b[0mtrees\u001b[0m \u001b[0;32mimport\u001b[0m \u001b[0;34m*\u001b[0m\u001b[0;34m\u001b[0m\u001b[0m\n\u001b[0m",
      "\u001b[0;31mModuleNotFoundError\u001b[0m: No module named 'dtreeviz'"
     ]
    }
   ],
   "source": [
    "from dtreeviz.trees import *"
   ]
  },
  {
   "cell_type": "code",
   "execution_count": 107,
   "metadata": {},
   "outputs": [
    {
     "name": "stdout",
     "output_type": "stream",
     "text": [
      "/usr/local/anaconda/lib/python3.6/site-packages/graphviz/__init__.py\n"
     ]
    }
   ],
   "source": [
    "import graphviz\n",
    "print(graphviz.__file__)"
   ]
  },
  {
   "cell_type": "code",
   "execution_count": 53,
   "metadata": {},
   "outputs": [
    {
     "name": "stdout",
     "output_type": "stream",
     "text": [
      "absl\r\n",
      "absl_py-0.2.2.dist-info\r\n",
      "alabaster\r\n",
      "alabaster-0.7.10-py3.6.egg-info\r\n",
      "anaconda_client-1.6.3-py3.6.egg-info\r\n",
      "anaconda_navigator\r\n",
      "anaconda_navigator-1.6.4-py3.6.egg-info\r\n",
      "anaconda_project\r\n",
      "anaconda_project-0.6.0-py3.6.egg-info\r\n",
      "appdirs-1.4.3.dist-info\r\n",
      "appdirs.py\r\n",
      "asn1crypto\r\n",
      "asn1crypto-0.22.0-py3.6.egg-info\r\n",
      "astor\r\n",
      "astor-0.6.2.dist-info\r\n",
      "astroid\r\n",
      "astroid-1.5.3-py3.6.egg-info\r\n",
      "astropy\r\n",
      "astropy-2.0.1-py3.6.egg-info\r\n",
      "babel\r\n",
      "Babel-2.5.0-py3.6.egg-info\r\n",
      "backports\r\n",
      "backports.shutil_get_terminal_size-1.0.0-py3.6.egg-info\r\n",
      "bcrypt\r\n",
      "bcrypt-3.1.4.dist-info\r\n",
      "beautifulsoup4-4.6.0-py3.6.egg-info\r\n",
      "binstar_client\r\n",
      "bitarray\r\n",
      "bitarray-0.8.1-py3.6.egg-info\r\n",
      "bkcharts\r\n",
      "bkcharts-0.2-py3.6.egg-info\r\n",
      "blaze\r\n",
      "blaze-0.10.1-py3.6.egg-info\r\n",
      "bleach\r\n",
      "bleach-1.5.0-py3.6.egg-info\r\n",
      "bokeh\r\n",
      "bokeh-0.12.7-py3.6.egg-info\r\n",
      "boto\r\n",
      "boto-2.48.0-py3.6.egg-info\r\n",
      "boto3\r\n",
      "boto3-1.7.26.dist-info\r\n",
      "botocore\r\n",
      "botocore-1.10.26.dist-info\r\n",
      "bottleneck\r\n",
      "Bottleneck-1.2.1-py3.6.egg-info\r\n",
      "brewer2mpl\r\n",
      "brewer2mpl-1.4.1.dist-info\r\n",
      "bs4\r\n",
      "bson\r\n",
      "bson-0.5.6.dist-info\r\n",
      "bz2file-0.98.dist-info\r\n",
      "bz2file.py\r\n",
      "cairocffi\r\n",
      "cairocffi-0.8.0.dist-info\r\n",
      "certifi\r\n",
      "certifi-2017.11.5.dist-info\r\n",
      "cffi\r\n",
      "cffi-1.10.0-py3.6.egg-info\r\n",
      "_cffi_backend.so\r\n",
      "cftime\r\n",
      "cftime-1.0.0.dist-info\r\n",
      "chardet\r\n",
      "chardet-3.0.4-py3.6.egg-info\r\n",
      "click\r\n",
      "click-6.7-py3.6.egg-info\r\n",
      "cloudpickle\r\n",
      "cloudpickle-0.4.0-py3.6.egg-info\r\n",
      "clyent\r\n",
      "clyent-1.2.2-py3.6.egg-info\r\n",
      "colorama\r\n",
      "conda\r\n",
      "conda-4.5.4-py3.6.egg-info\r\n",
      "conda_env\r\n",
      "configobj-5.0.6.dist-info\r\n",
      "configobj.py\r\n",
      "contextlib2-0.5.5-py3.6.egg-info\r\n",
      "contextlib2.py\r\n",
      "corpora\r\n",
      "Corpora-1.0.dist-info\r\n",
      "Crypto\r\n",
      "cryptography\r\n",
      "cryptography-1.8.1-py3.6.egg-info\r\n",
      "curl\r\n",
      "cx_Oracle-6.3.1.dist-info\r\n",
      "cx_Oracle.cpython-36m-x86_64-linux-gnu.so\r\n",
      "cycler-0.10.0-py3.6.egg-info\r\n",
      "cycler.py\r\n",
      "cymem\r\n",
      "cymem-1.31.2.dist-info\r\n",
      "Cython\r\n",
      "Cython-0.26-py3.6.egg-info\r\n",
      "cython.py\r\n",
      "cytoolz\r\n",
      "cytoolz-0.8.2-py3.6.egg-info\r\n",
      "daal-2018.0.0.20170814.dist-info\r\n",
      "dash\r\n",
      "dash-0.21.1.dist-info\r\n",
      "dash_core_components\r\n",
      "dash_core_components-0.22.1.dist-info\r\n",
      "dash_html_components\r\n",
      "dash_html_components-0.10.1.dist-info\r\n",
      "dash_renderer\r\n",
      "dash_renderer-0.12.1.dist-info\r\n",
      "dash_table_experiments\r\n",
      "dash_table_experiments-0.6.0.dist-info\r\n",
      "dask\r\n",
      "dask-0.15.2-py3.6.egg-info\r\n",
      "datashape\r\n",
      "datashape-0.5.4-py3.6.egg-info\r\n",
      "dateutil\r\n",
      "decorator-4.1.2-py3.6.egg-info\r\n",
      "decorator.py\r\n",
      "dill\r\n",
      "dill-0.2.7.1.dist-info\r\n",
      "distributed\r\n",
      "distributed-1.18.1-py3.6.egg-info\r\n",
      "docutils\r\n",
      "docutils-0.14-py3.6.egg-info\r\n",
      "domino\r\n",
      "easy-install.pth\r\n",
      "easy_install.py\r\n",
      "en_core_web_sm\r\n",
      "en_core_web_sm-2.0.0-py3.6.egg-info\r\n",
      "entrypoints-0.2.3-py3.6.egg-info\r\n",
      "entrypoints.py\r\n",
      "enum\r\n",
      "enum34-1.1.6.dist-info\r\n",
      "et_xmlfile\r\n",
      "et_xmlfile-1.0.1-py3.6.egg-info\r\n",
      "external\r\n",
      "fastcache\r\n",
      "fastcache-1.0.2-py3.6.egg-info\r\n",
      "flask\r\n",
      "Flask-0.12.dist-info\r\n",
      "Flask_Compress-1.4.0.dist-info\r\n",
      "flask_compress.py\r\n",
      "flask_cors\r\n",
      "Flask_Cors-3.0.3-py3.6.egg-info\r\n",
      "future\r\n",
      "future-0.16.0.dist-info\r\n",
      "gast\r\n",
      "gast-0.2.0.dist-info\r\n",
      "gensim\r\n",
      "gensim-3.4.0.dist-info\r\n",
      "gevent\r\n",
      "gevent-1.2.2-py3.6.egg-info\r\n",
      "ggplot\r\n",
      "ggplot-0.11.5.dist-info\r\n",
      "google\r\n",
      "graphviz\r\n",
      "graphviz-0.8.3.dist-info\r\n",
      "greenlet-0.4.12-py3.6.egg-info\r\n",
      "greenlet.cpython-36m-x86_64-linux-gnu.so\r\n",
      "gridfs\r\n",
      "grpc\r\n",
      "grpcio-1.12.0.dist-info\r\n",
      "gunicorn\r\n",
      "gunicorn-19.8.1.dist-info\r\n",
      "h5py\r\n",
      "h5py-2.7.0-py3.6-linux-x86_64.egg-info\r\n",
      "HeapDict-1.0.0-py3.6.egg-info\r\n",
      "heapdict.py\r\n",
      "html5lib\r\n",
      "html5lib-0.9999999-py3.6.egg-info\r\n",
      "icc_rt-16.0.3.dist-info\r\n",
      "idna\r\n",
      "idna-2.6-py3.6.egg-info\r\n",
      "imagesize\r\n",
      "imagesize-0.7.1-py3.6.egg-info\r\n",
      "impi-2018.0.0.dist-info\r\n",
      "intel_numpy-1.13.3.10.dist-info\r\n",
      "intel_openmp-2018.0.0.dist-info\r\n",
      "intel_scipy-1.0.0.0.dist-info\r\n",
      "ipp-2018.0.0.dist-info\r\n",
      "ipykernel\r\n",
      "ipykernel-4.6.1-py3.6.egg-info\r\n",
      "ipykernel_launcher.py\r\n",
      "IPython\r\n",
      "ipython-6.1.0-py3.6.egg-info\r\n",
      "ipython_genutils\r\n",
      "ipython_genutils-0.2.0-py3.6.egg-info\r\n",
      "ipywidgets\r\n",
      "ipywidgets-6.0.0-py3.6.egg-info\r\n",
      "isort\r\n",
      "isort-4.2.15-py3.6.egg-info\r\n",
      "itsdangerous-0.24-py3.6.egg-info\r\n",
      "itsdangerous.py\r\n",
      "jdcal-1.3-py3.6.egg-info\r\n",
      "jdcal.py\r\n",
      "jedi\r\n",
      "jedi-0.10.2-py3.6.egg-info\r\n",
      "jinja2\r\n",
      "Jinja2-2.10.dist-info\r\n",
      "jmespath\r\n",
      "jmespath-0.9.3.dist-info\r\n",
      "joblib\r\n",
      "joblib-0.11.dist-info\r\n",
      "jsonify\r\n",
      "jsonify-0.5.dist-info\r\n",
      "jsonschema\r\n",
      "jsonschema-2.6.0-py3.6.egg-info\r\n",
      "jupyter-1.0.0-py3.6.egg-info\r\n",
      "jupyter_client\r\n",
      "jupyter_client-5.1.0-py3.6.egg-info\r\n",
      "jupyter_console\r\n",
      "jupyter_console-5.2.0-py3.6.egg-info\r\n",
      "jupyter_core\r\n",
      "jupyter_core-4.3.0-py3.6.egg-info\r\n",
      "jupyterlab\r\n",
      "jupyterlab-0.31.12.dist-info\r\n",
      "jupyterlab_launcher\r\n",
      "jupyterlab_launcher-0.10.5.dist-info\r\n",
      "jupyter.py\r\n",
      "jupyter_tensorboard\r\n",
      "jupyter_tensorboard-0.1.6.dist-info\r\n",
      "keras\r\n",
      "Keras-2.1.6.dist-info\r\n",
      "kiwisolver-1.0.1.dist-info\r\n",
      "kiwisolver.cpython-36m-x86_64-linux-gnu.so\r\n",
      "lazy_object_proxy\r\n",
      "lazy_object_proxy-1.3.1-py3.6-linux-x86_64.egg-info\r\n",
      "libfuturize\r\n",
      "libpasteurize\r\n",
      "_license.so\r\n",
      "llvmlite\r\n",
      "llvmlite-0.20.0-py3.6.egg-info\r\n",
      "locket\r\n",
      "locket-0.2.0-py3.6.egg-info\r\n",
      "lxml\r\n",
      "lxml-3.8.0-py3.6.egg-info\r\n",
      "markdown\r\n",
      "Markdown-2.6.11.dist-info\r\n",
      "markupsafe\r\n",
      "MarkupSafe-1.0-py3.6.egg-info\r\n",
      "matplotlib\r\n",
      "matplotlib-2.2.2.dist-info\r\n",
      "matplotlib-2.2.2-py3.6-nspkg.pth\r\n",
      "memory_profiler-0.52.0.dist-info\r\n",
      "memory_profiler.py\r\n",
      "mistune-0.7.4-py3.6.egg-info\r\n",
      "mistune.cpython-36m-x86_64-linux-gnu.so\r\n",
      "mkl\r\n",
      "mkl-2018.0.0.dist-info\r\n",
      "mkl_fft\r\n",
      "mkl_fft-1.0.0.17.dist-info\r\n",
      "mkl_fft-1.0.0-py3.6.egg-info\r\n",
      "mkl_random\r\n",
      "mkl_random-1.0.0.8.dist-info\r\n",
      "mkl_random-1.0.1-py3.6.egg-info\r\n",
      "mpl_toolkits\r\n",
      "mpltools\r\n",
      "mpltools-0.2.0.dist-info\r\n",
      "mpmath\r\n",
      "mpmath-0.19-py3.6.egg-info\r\n",
      "msgpack\r\n",
      "msgpack_numpy-0.4.1.dist-info\r\n",
      "msgpack_numpy.py\r\n",
      "msgpack_python-0.4.8-py3.6.egg-info\r\n",
      "multipledispatch\r\n",
      "multipledispatch-0.4.9-py3.6.egg-info\r\n",
      "murmurhash\r\n",
      "murmurhash-0.28.0.dist-info\r\n",
      "mxnet\r\n",
      "mxnet_cu80-1.2.0.dist-info\r\n",
      "nacl\r\n",
      "navigator_updater\r\n",
      "navigator_updater-0.1.0-py3.6.egg-info\r\n",
      "nbconvert\r\n",
      "nbconvert-5.2.1-py3.6.egg-info\r\n",
      "nbformat\r\n",
      "nbformat-4.4.0-py3.6.egg-info\r\n",
      "netCDF4\r\n",
      "netCDF4-1.4.0.dist-info\r\n",
      "networkx\r\n",
      "networkx-1.11-py3.6.egg-info\r\n",
      "nltk\r\n",
      "nltk-3.3.dist-info\r\n",
      "nose\r\n",
      "nose-1.3.7-py3.6.egg-info\r\n",
      "notebook\r\n",
      "notebook-5.0.0-py3.6.egg-info\r\n",
      "numba\r\n",
      "numba-0.35.0-py3.6-linux-x86_64.egg-info\r\n",
      "numexpr\r\n",
      "numexpr-2.6.5-py3.6.egg-info\r\n",
      "numpy\r\n",
      "numpy-1.13.3.dist-info\r\n",
      "numpy-1.13.3-py3.6.egg-info\r\n",
      "numpydoc\r\n",
      "numpydoc-0.7.0-py3.6.egg-info\r\n",
      "odo\r\n",
      "odo-0.5.1-py3.6.egg-info\r\n",
      "olefile\r\n",
      "olefile-0.44-py3.6.egg-info\r\n",
      "OleFileIO_PL.py\r\n",
      "openpyxl\r\n",
      "openpyxl-2.4.8-py3.6.egg-info\r\n",
      "OpenSSL\r\n",
      "packaging\r\n",
      "packaging-16.8-py3.6.egg-info\r\n",
      "pandas\r\n",
      "pandas-0.20.3-py3.6.egg-info\r\n",
      "pandas_datareader\r\n",
      "pandas_datareader-0.6.0.dist-info\r\n",
      "pandas_profiling\r\n",
      "pandas_profiling-1.4.1.dist-info\r\n",
      "pandoc\r\n",
      "pandoc-1.0.2.dist-info\r\n",
      "pandocfilters-1.4.2-py3.6.egg-info\r\n",
      "pandocfilters.py\r\n",
      "paramiko\r\n",
      "paramiko-2.4.1.dist-info\r\n",
      "partd\r\n",
      "partd-0.3.8-py3.6.egg-info\r\n",
      "past\r\n",
      "pathlib-1.0.1.dist-info\r\n",
      "pathlib2-2.3.0-py3.6.egg-info\r\n",
      "pathlib2.py\r\n",
      "pathlib.py\r\n",
      "path.py\r\n",
      "patsy\r\n",
      "patsy-0.4.1-py3.6.egg-info\r\n",
      "pep8-1.7.0-py3.6.egg-info\r\n",
      "pep8.py\r\n",
      "pexpect\r\n",
      "pexpect-4.2.1-py3.6.egg-info\r\n",
      "pickleshare-0.7.4-py3.6.egg-info\r\n",
      "pickleshare.py\r\n",
      "PIL\r\n",
      "Pillow-4.2.1-py3.6.egg-info\r\n",
      "pip\r\n",
      "pip-10.0.1.dist-info\r\n",
      "pkg_resources\r\n",
      "plac-0.9.6.dist-info\r\n",
      "plac_core.py\r\n",
      "plac_ext.py\r\n",
      "plac.py\r\n",
      "plac_tk.py\r\n",
      "plotly\r\n",
      "plotly-2.6.0.dist-info\r\n",
      "ply\r\n",
      "ply-3.10-py3.6.egg-info\r\n",
      "preshed\r\n",
      "preshed-1.0.0.dist-info\r\n",
      "prompt_toolkit\r\n",
      "prompt_toolkit-1.0.15-py3.6.egg-info\r\n",
      "protobuf-3.5.2.post1.dist-info\r\n",
      "protobuf-3.5.2.post1-py3.6-nspkg.pth\r\n",
      "psutil\r\n",
      "psutil-5.2.2-py3.6.egg-info\r\n",
      "ptyprocess\r\n",
      "ptyprocess-0.5.2-py3.6.egg-info\r\n",
      "py\r\n",
      "py-1.4.34-py3.6.egg-info\r\n",
      "py4j\r\n",
      "py4j-0.10.7.dist-info\r\n",
      "pyarrow\r\n",
      "pyarrow-0.7.1.dist-info\r\n",
      "pyasn1\r\n",
      "pyasn1-0.4.2.dist-info\r\n",
      "__pycache__\r\n",
      "pycodestyle-2.3.1-py3.6.egg-info\r\n",
      "pycodestyle.py\r\n",
      "pycosat-0.6.3-py3.6.egg-info\r\n",
      "pycosat.cpython-36m-x86_64-linux-gnu.so\r\n",
      "pycparser\r\n",
      "pycparser-2.18-py3.6.egg-info\r\n",
      "pycrypto-2.6.1-py3.6.egg-info\r\n",
      "pycurl-7.43.0-py3.6.egg-info\r\n",
      "pycurl.cpython-36m-x86_64-linux-gnu.so\r\n",
      "pyflakes\r\n",
      "pyflakes-1.6.0-py3.6.egg-info\r\n",
      "pygments\r\n",
      "Pygments-2.2.0-py3.6.egg-info\r\n",
      "pylab.py\r\n",
      "pylint\r\n",
      "pylint-1.7.2-py3.6.egg-info\r\n",
      "pymongo\r\n",
      "pymongo-3.6.1.dist-info\r\n",
      "PyNaCl-1.2.1.dist-info\r\n",
      "pyodbc-4.0.17-py3.6.egg-info\r\n",
      "pyodbc.cpython-36m-x86_64-linux-gnu.so\r\n",
      "pyOpenSSL-17.0.0-py3.6.egg-info\r\n",
      "pypandoc\r\n",
      "pypandoc-1.4.dist-info\r\n",
      "pyparsing-2.2.0-py3.6.egg-info\r\n",
      "pyparsing.py\r\n",
      "PyQt5\r\n",
      "_pytest\r\n",
      "pytest-3.2.1-py3.6.egg-info\r\n",
      "pytest.py\r\n",
      "python_dateutil-2.7.3.dist-info\r\n",
      "python_domino-0.3.3.dist-info\r\n",
      "pytz\r\n",
      "pytz-2018.4.dist-info\r\n",
      "PyWavelets-0.5.2-py3.6.egg-info\r\n",
      "pywt\r\n",
      "pyximport\r\n",
      "PyYAML-3.12-py3.6.egg-info\r\n",
      "pyzmq-16.0.2-py3.6.egg-info\r\n",
      "qtawesome\r\n",
      "QtAwesome-0.4.4-py3.6.egg-info\r\n",
      "qtconsole\r\n",
      "qtconsole-4.3.1-py3.6.egg-info\r\n",
      "qtpy\r\n",
      "QtPy-1.3.1-py3.6.egg-info\r\n",
      "quilt\r\n",
      "quilt-2.9.4.dist-info\r\n",
      "README.txt\r\n",
      "regex-2017.4.5.dist-info\r\n",
      "_regex_core.py\r\n",
      "_regex.cpython-36m-x86_64-linux-gnu.so\r\n",
      "regex.py\r\n",
      "requests\r\n",
      "requests-2.18.4.dist-info\r\n",
      "requests_file-1.4.3.dist-info\r\n",
      "requests_file.py\r\n",
      "requests_ftp\r\n",
      "requests_ftp-0.3.1.dist-info\r\n",
      "rope\r\n",
      "rope_py3k-0.9.4_1-py3.6.egg-info\r\n",
      "ruamel_yaml\r\n",
      "s3transfer\r\n",
      "s3transfer-0.1.13.dist-info\r\n",
      "scikit_image-0.13.0-py3.6.egg-info\r\n",
      "scikit_learn-0.19.1-py3.6.egg-info\r\n",
      "scipy\r\n",
      "scipy-1.0.0.dist-info\r\n",
      "scipy-1.1.0-py3.6.egg-info\r\n",
      "scripts\r\n",
      "seaborn\r\n",
      "seaborn-0.8-py3.6.egg-info\r\n",
      "setuptools\r\n",
      "setuptools-39.2.0.dist-info\r\n",
      "setuputils.py\r\n",
      "simplegeneric-0.8.1-py3.6.egg-info\r\n",
      "simplegeneric.py\r\n",
      "simplejson\r\n",
      "simplejson-3.15.0.dist-info\r\n",
      "singledispatch-3.4.0.3-py3.6.egg-info\r\n",
      "singledispatch_helpers.py\r\n",
      "singledispatch.py\r\n",
      "sipconfig.py\r\n",
      "sipdistutils.py\r\n",
      "sip.pyi\r\n",
      "sip.so\r\n",
      "six-1.11.0.dist-info\r\n",
      "six.py\r\n",
      "skimage\r\n",
      "sklearn\r\n",
      "smart_open\r\n",
      "smart_open-1.5.7.dist-info\r\n",
      "snowballstemmer\r\n",
      "snowballstemmer-1.2.1-py3.6.egg-info\r\n",
      "sortedcollections\r\n",
      "sortedcollections-0.5.3-py3.6.egg-info\r\n",
      "sortedcontainers\r\n",
      "sortedcontainers-1.5.7-py3.6.egg-info\r\n",
      "spacy\r\n",
      "spacy-2.0.11.dist-info\r\n",
      "Sphinx-1.6.3-py3.6.egg\r\n",
      "sphinxcontrib\r\n",
      "sphinxcontrib_websupport-1.0.1-py3.6.egg-info\r\n",
      "Sphinx.pth\r\n",
      "spyder\r\n",
      "spyder-3.2.3-py3.6.egg-info\r\n",
      "spyder_breakpoints\r\n",
      "spyder_io_dcm\r\n",
      "spyder_io_hdf5\r\n",
      "spyder_profiler\r\n",
      "spyder_pylint\r\n",
      "sqlalchemy\r\n",
      "SQLAlchemy-1.1.13-py3.6.egg-info\r\n",
      "statsmodels\r\n",
      "statsmodels-0.8.0-py3.6.egg-info\r\n",
      "sympy\r\n",
      "sympy-1.1.1-py3.6.egg-info\r\n",
      "tables\r\n",
      "tables-3.4.2-py3.6.egg-info\r\n",
      "tblib\r\n",
      "tblib-1.3.2-py3.6.egg-info\r\n",
      "tensorboard\r\n",
      "tensorboard-1.8.0.dist-info\r\n",
      "tensorflow\r\n",
      "tensorflow-1.8.0.dist-info\r\n",
      "tensorflow_gpu-1.4.0rc1.dist-info\r\n",
      "tensorflow_tensorboard-0.4.0.dist-info\r\n",
      "termcolor-1.1.0.dist-info\r\n",
      "termcolor.py\r\n",
      "terminado\r\n",
      "terminado-0.6-py3.6.egg-info\r\n",
      "test\r\n",
      "testpath\r\n",
      "testpath-0.3-py3.6.egg-info\r\n",
      "test_path.py\r\n",
      "test_pycosat.py\r\n",
      "test_regex.py\r\n",
      "thinc\r\n",
      "thinc-6.10.2.dist-info\r\n",
      "tlz\r\n",
      "toolz\r\n",
      "toolz-0.8.2-py3.6.egg-info\r\n",
      "torch\r\n",
      "torch-0.4.0-py3.6.egg-info\r\n",
      "torchvision-0.2.1-py3.6.egg\r\n",
      "torchvision.pth\r\n",
      "tornado\r\n",
      "tornado-4.5.2-py3.6.egg-info\r\n",
      "tqdm\r\n",
      "tqdm-4.23.4.dist-info\r\n",
      "traitlets\r\n",
      "traitlets-4.3.2-py3.6.egg-info\r\n",
      "ujson-1.35.dist-info\r\n",
      "ujson.cpython-36m-x86_64-linux-gnu.so\r\n",
      "unicodecsv\r\n",
      "unicodecsv-0.14.1-py3.6.egg-info\r\n",
      "unidecode\r\n",
      "Unidecode-1.0.22.dist-info\r\n",
      "urllib3\r\n",
      "urllib3-1.22.dist-info\r\n",
      "uWSGI-2.0.14.dist-info\r\n",
      "uwsgidecorators.py\r\n",
      "validate.py\r\n",
      "_version.py\r\n",
      "wcwidth\r\n",
      "wcwidth-0.1.7-py3.6.egg-info\r\n",
      "websocket\r\n",
      "websocket-0.2.1.dist-info\r\n",
      "werkzeug\r\n",
      "Werkzeug-0.14.1.dist-info\r\n",
      "wheel\r\n",
      "wheel-0.29.0-py3.6.egg-info\r\n",
      "widgetsnbextension\r\n",
      "widgetsnbextension-3.0.2-py3.6.egg-info\r\n",
      "wrapt\r\n",
      "wrapt-1.10.11-py3.6.egg-info\r\n",
      "xarray\r\n",
      "xarray-0.10.4.dist-info\r\n",
      "xgboost\r\n",
      "xgboost-0.71.dist-info\r\n",
      "xlrd\r\n",
      "xlrd-1.1.0-py3.6.egg-info\r\n",
      "xlsxwriter\r\n",
      "XlsxWriter-0.9.8-py3.6.egg-info\r\n",
      "xlwt\r\n",
      "xlwt-1.3.0-py3.6.egg-info\r\n",
      "xonsh\r\n",
      "yaml\r\n",
      "_yaml.cpython-36m-x86_64-linux-gnu.so\r\n",
      "zict\r\n",
      "zict-0.1.2-py3.6.egg-info\r\n",
      "zmq\r\n"
     ]
    }
   ],
   "source": [
    "! cd /usr/local/anaconda/lib/python3.6/site-packages; ls"
   ]
  },
  {
   "cell_type": "code",
   "execution_count": 9,
   "metadata": {},
   "outputs": [
    {
     "name": "stdout",
     "output_type": "stream",
     "text": [
      "['', '/mnt/aic-8_2_8_tree-based-algorithms-mini-project', '/opt/spark-2.2.1-bin-hadoop2.7/python', '/opt/spark-2.2.1-bin-hadoop2.7/python/lib/py4j-0.10.4-src.zip', '/opt/spark-2.4.0-bin-hadoop2.7/python', '/opt/spark-2.4.0-bin-hadoop2.7/python/lib/py4j-0.10.4-src.zip', '/usr/local/anaconda/lib/python36.zip', '/usr/local/anaconda/lib/python3.6', '/usr/local/anaconda/lib/python3.6/lib-dynload', '/usr/local/anaconda/lib/python3.6/site-packages', '/usr/local/anaconda/lib/python3.6/site-packages/Sphinx-1.6.3-py3.6.egg', '/usr/local/anaconda/lib/python3.6/site-packages/torchvision-0.2.1-py3.6.egg', '/usr/local/anaconda/lib/python3.6/site-packages/IPython/extensions', '/home/ubuntu/.ipython']\n"
     ]
    }
   ],
   "source": [
    "import sys\n",
    "print(sys.path)\n",
    "\n",
    "sys.path.insert(0, \"/home/myname/pythonfiles\")"
   ]
  },
  {
   "cell_type": "code",
   "execution_count": 56,
   "metadata": {
    "collapsed": true
   },
   "outputs": [],
   "source": [
    "import sys\n",
    "sys.path.insert(0, \"/home/ubuntu/.local/lib/python3.6/site-packages\")"
   ]
  },
  {
   "cell_type": "code",
   "execution_count": 57,
   "metadata": {
    "collapsed": true
   },
   "outputs": [],
   "source": [
    "import dtreeviz"
   ]
  },
  {
   "cell_type": "code",
   "execution_count": 36,
   "metadata": {},
   "outputs": [
    {
     "ename": "NameError",
     "evalue": "name 'boston' is not defined",
     "output_type": "error",
     "traceback": [
      "\u001b[0;31m---------------------------------------------------------------------------\u001b[0m",
      "\u001b[0;31mNameError\u001b[0m                                 Traceback (most recent call last)",
      "\u001b[0;32m<ipython-input-36-ceb1f10e3597>\u001b[0m in \u001b[0;36m<module>\u001b[0;34m()\u001b[0m\n\u001b[1;32m      1\u001b[0m viz = dtreeviz(regr,\n\u001b[0;32m----> 2\u001b[0;31m                \u001b[0mboston\u001b[0m\u001b[0;34m.\u001b[0m\u001b[0mdata\u001b[0m\u001b[0;34m,\u001b[0m\u001b[0;34m\u001b[0m\u001b[0m\n\u001b[0m\u001b[1;32m      3\u001b[0m                \u001b[0mboston\u001b[0m\u001b[0;34m.\u001b[0m\u001b[0mtarget\u001b[0m\u001b[0;34m,\u001b[0m\u001b[0;34m\u001b[0m\u001b[0m\n\u001b[1;32m      4\u001b[0m                \u001b[0mtarget_name\u001b[0m\u001b[0;34m=\u001b[0m\u001b[0;34m'price'\u001b[0m\u001b[0;34m,\u001b[0m\u001b[0;34m\u001b[0m\u001b[0m\n\u001b[1;32m      5\u001b[0m                feature_names=boston.feature_names)\n",
      "\u001b[0;31mNameError\u001b[0m: name 'boston' is not defined"
     ]
    }
   ],
   "source": [
    "viz = dtreeviz(regr,\n",
    "               boston.data,\n",
    "               boston.target,\n",
    "               target_name='price',\n",
    "               feature_names=boston.feature_names)\n",
    "              \n",
    "viz.view() "
   ]
  },
  {
   "cell_type": "markdown",
   "metadata": {},
   "source": [
    "## Random Forests"
   ]
  },
  {
   "cell_type": "markdown",
   "metadata": {},
   "source": [
    "As discussed in the lecture videos, Decision Tree algorithms also have certain undesireable properties. Mainly the have low bias, which is good, but tend to have high variance - which is *not* so good (more about this problem here: https://en.wikipedia.org/wiki/Bias%E2%80%93variance_tradeoff)."
   ]
  },
  {
   "cell_type": "markdown",
   "metadata": {},
   "source": [
    "Noticing these problems, the late Professor Leo Breiman, in 2001, developed the Random Forests algorithm, which mitigates these problems, while at the same time providing even higher predictive accuracy than the majority of Decision Tree algorithm implementations. While the curriculum contains two excellent lectures on Random Forests, if you're interested, you can dive into the original paper here: https://link.springer.com/content/pdf/10.1023%2FA%3A1010933404324.pdf."
   ]
  },
  {
   "cell_type": "markdown",
   "metadata": {},
   "source": [
    "In the next part of this assignment, your are going to use the same \"German Credit\" dataset to train, tune, and measure the performance of a Random Forests model. You will also see certain functionalities that this model, even though it's a bit of a \"black box\", provides for some degree of interpretability."
   ]
  },
  {
   "cell_type": "markdown",
   "metadata": {},
   "source": [
    "First, let's build a Random Forests model, using the same best practices that you've used for your Decision Trees model. You can reuse the things you've already imported there, so no need to do any re-imports, new train/test splits, or loading up the data again."
   ]
  },
  {
   "cell_type": "code",
   "execution_count": null,
   "metadata": {
    "collapsed": true
   },
   "outputs": [],
   "source": [
    "from sklearn.ensemble import RandomForestClassifier"
   ]
  },
  {
   "cell_type": "code",
   "execution_count": null,
   "metadata": {
    "collapsed": true
   },
   "outputs": [],
   "source": [
    "# Your code here! :)"
   ]
  },
  {
   "cell_type": "markdown",
   "metadata": {},
   "source": [
    "As mentioned, there are certain ways to \"peek\" into a model created by the Random Forests algorithm. The first, and most popular one, is the Feature Importance calculation functionality. This allows the ML practitioner to see an ordering of the importance of the features that have contributed the most to the predictive accuracy of the model. \n",
    "\n",
    "You can see how to use this in the scikit-learn documentation (http://scikit-learn.org/stable/modules/generated/sklearn.ensemble.RandomForestClassifier.html#sklearn.ensemble.RandomForestClassifier.feature_importances_). Now, if you tried this, you would just get an ordered table of not directly interpretable numeric values. Thus, it's much more useful to show the feature importance in a visual way. You can see an example of how that's done here: http://scikit-learn.org/stable/auto_examples/ensemble/plot_forest_importances.html#sphx-glr-auto-examples-ensemble-plot-forest-importances-py\n",
    "\n",
    "Now you try! Let's visualize the importance of features from your Random Forests model!"
   ]
  },
  {
   "cell_type": "code",
   "execution_count": null,
   "metadata": {
    "collapsed": true
   },
   "outputs": [],
   "source": [
    "# Your code here"
   ]
  },
  {
   "cell_type": "markdown",
   "metadata": {},
   "source": [
    "A final method for gaining some insight into the inner working of your Random Forests models is a so-called Partial Dependence Plot. The Partial Dependence Plot (PDP or PD plot) shows the marginal effect of a feature on the predicted outcome of a previously fit model. The prediction function is fixed at a few values of the chosen features and averaged over the other features. A partial dependence plot can show if the relationship between the target and a feature is linear, monotonic or more complex. \n",
    "\n",
    "In scikit-learn, PDPs are implemented and available for certain algorithms, but at this point (version 0.20.0) they are not yet implemented for Random Forests. Thankfully, there is an add-on package called **PDPbox** (https://pdpbox.readthedocs.io/en/latest/) which adds this functionality to Random Forests. The package is easy to install through pip."
   ]
  },
  {
   "cell_type": "code",
   "execution_count": null,
   "metadata": {
    "collapsed": true
   },
   "outputs": [],
   "source": [
    "! pip install pdpbox"
   ]
  },
  {
   "cell_type": "markdown",
   "metadata": {},
   "source": [
    "While we encourage you to read the documentation for the package (and reading package documentation in general is a good habit to develop), the authors of the package have also written an excellent blog post on how to use it, showing examples on different algorithms from scikit-learn (the Random Forests example is towards the end of the blog post): https://briangriner.github.io/Partial_Dependence_Plots_presentation-BrianGriner-PrincetonPublicLibrary-4.14.18-updated-4.22.18.html"
   ]
  },
  {
   "cell_type": "markdown",
   "metadata": {},
   "source": [
    "So, armed with this new knowledge, feel free to pick a few features, and make a couple of Partial Dependence Plots of your own!"
   ]
  },
  {
   "cell_type": "code",
   "execution_count": null,
   "metadata": {
    "collapsed": true
   },
   "outputs": [],
   "source": [
    "# Your code here!"
   ]
  },
  {
   "cell_type": "markdown",
   "metadata": {},
   "source": [
    "## (Optional) Advanced Boosting-Based Algorithms"
   ]
  },
  {
   "cell_type": "markdown",
   "metadata": {},
   "source": [
    "As explained in the video lectures, the next generation of algorithms after Random Forests (that use Bagging, a.k.a. Bootstrap Aggregation) were developed using Boosting, and the first one of these were Gradient Boosted Machines, which are implemented in scikit-learn (http://scikit-learn.org/stable/modules/ensemble.html#gradient-tree-boosting)."
   ]
  },
  {
   "cell_type": "markdown",
   "metadata": {},
   "source": [
    "Still, in recent years, a number of variations on GBMs have been developed by different research amd industry groups, all of them bringing improvements, both in speed, accuracy and functionality to the original Gradient Boosting algorithms.\n",
    "\n",
    "In no order of preference, these are:\n",
    "1. **XGBoost**: https://xgboost.readthedocs.io/en/latest/\n",
    "2. **CatBoost**: https://tech.yandex.com/catboost/\n",
    "3. **LightGBM**: https://lightgbm.readthedocs.io/en/latest/"
   ]
  },
  {
   "cell_type": "markdown",
   "metadata": {},
   "source": [
    "If you're using the Anaconda distribution, these are all very easy to install:"
   ]
  },
  {
   "cell_type": "code",
   "execution_count": null,
   "metadata": {
    "collapsed": true
   },
   "outputs": [],
   "source": [
    "! conda install -c anaconda py-xgboost"
   ]
  },
  {
   "cell_type": "code",
   "execution_count": null,
   "metadata": {
    "collapsed": true
   },
   "outputs": [],
   "source": [
    "! conda install -c conda-forge catboost"
   ]
  },
  {
   "cell_type": "code",
   "execution_count": null,
   "metadata": {
    "collapsed": true
   },
   "outputs": [],
   "source": [
    "! conda install -c conda-forge lightgbm"
   ]
  },
  {
   "cell_type": "markdown",
   "metadata": {},
   "source": [
    "Your task in this optional section of the mini project is to read the documentation of these three libraries, and apply all of them to the \"German Credit\" dataset, just like you did in the case of Decision Trees and Random Forests."
   ]
  },
  {
   "cell_type": "markdown",
   "metadata": {},
   "source": [
    "The final deliverable of this section should be a table (can be a pandas DataFrame) which shows the accuracy of all the five algorthms taught in this mini project in one place."
   ]
  },
  {
   "cell_type": "markdown",
   "metadata": {},
   "source": [
    "Happy modeling! :)"
   ]
  },
  {
   "cell_type": "code",
   "execution_count": null,
   "metadata": {
    "collapsed": true
   },
   "outputs": [],
   "source": []
  }
 ],
 "metadata": {
  "kernelspec": {
   "display_name": "Python 3",
   "language": "python",
   "name": "python3"
  },
  "language_info": {
   "codemirror_mode": {
    "name": "ipython",
    "version": 3
   },
   "file_extension": ".py",
   "mimetype": "text/x-python",
   "name": "python",
   "nbconvert_exporter": "python",
   "pygments_lexer": "ipython3",
   "version": "3.6.2"
  }
 },
 "nbformat": 4,
 "nbformat_minor": 2
}
